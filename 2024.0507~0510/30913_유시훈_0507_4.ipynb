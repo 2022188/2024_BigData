{
 "cells": [
  {
   "cell_type": "markdown",
   "id": "b89e4fd7",
   "metadata": {},
   "source": [
    "## 30913_유시훈_0507_4"
   ]
  },
  {
   "cell_type": "markdown",
   "id": "33b0b0a1",
   "metadata": {},
   "source": [
    "# 수행평가 연습6"
   ]
  },
  {
   "cell_type": "code",
   "execution_count": 3,
   "id": "af2e0cf3",
   "metadata": {},
   "outputs": [
    {
     "name": "stdout",
     "output_type": "stream",
     "text": [
      "영어단어,뜻banana,바나나\n",
      "영어단어,뜻apple,사과\n",
      "영어단어,뜻\n"
     ]
    },
    {
     "data": {
      "text/plain": [
       "{'banana': '바나나', 'apple': '사과'}"
      ]
     },
     "execution_count": 3,
     "metadata": {},
     "output_type": "execute_result"
    }
   ],
   "source": [
    "# 빈 딕셔너리 만들기\n",
    "dict_word = {}\n",
    "\n",
    "# 공백을 입력할때까지 입력 키값과 밸류값 받기\n",
    "while True:\n",
    "    input_word =input('영어단어,뜻')\n",
    "    if input_word=='':\n",
    "        break\n",
    "    # 키값과 밸류값 분리하기\n",
    "    eng = input_word.split(',')[0]\n",
    "    kor = input_word.split(',')[1]\n",
    "    \n",
    "    # 키값과 밸류값 저장하기\n",
    "    dict_word[eng] = kor\n",
    "    \n",
    "# 출력하기\n",
    "dict_word"
   ]
  },
  {
   "cell_type": "markdown",
   "id": "ecdd7a20",
   "metadata": {},
   "source": [
    "# 수행평가 연습7"
   ]
  },
  {
   "cell_type": "code",
   "execution_count": 5,
   "id": "ab3ef77a",
   "metadata": {},
   "outputs": [
    {
     "name": "stdout",
     "output_type": "stream",
     "text": [
      "물건구매가 : 200000\n",
      "\n",
      "구매가 : 200000\n",
      "할인율 : 10%\n",
      "할인금액 : 20000.0\n",
      "지불금액 : 180000.0\n",
      "\n"
     ]
    }
   ],
   "source": [
    "price = int(input('물건구매가 : '))\n",
    "\n",
    "#할인율 결정\n",
    "if price >= 100000:\n",
    "    dc = 10\n",
    "elif price >= 50000:\n",
    "    dc = 7\n",
    "elif price >= 10000:\n",
    "    dc = 5\n",
    "else :\n",
    "    dc = 0\n",
    "    \n",
    "# 출력\n",
    "print(f'''\n",
    "구매가 : {price}\n",
    "할인율 : {dc}%\n",
    "할인금액 : {price*(dc/100)}\n",
    "지불금액 : {price - price*(dc/100)}\n",
    "''')"
   ]
  },
  {
   "cell_type": "markdown",
   "id": "acb1787b",
   "metadata": {},
   "source": [
    "# 수행평가 연습8"
   ]
  },
  {
   "cell_type": "code",
   "execution_count": 4,
   "id": "62f64227",
   "metadata": {},
   "outputs": [
    {
     "name": "stdout",
     "output_type": "stream",
     "text": [
      "숫자1 : 6\n",
      "숫자2 : 8\n",
      "연산기호 : +\n",
      "덧셈 : 6 + 8 = 14\n"
     ]
    }
   ],
   "source": [
    "num1 = int(input('숫자1 : '))\n",
    "num2 = int(input('숫자2 : '))\n",
    "op = input('연산기호 : ')\n",
    "\n",
    "if op == '+':\n",
    "    print(f'덧셈 : {num1} + {num2} = {num1+num2}')\n",
    "elif op == '-':\n",
    "    print(f'뺄셈 : {num1} - {num2} = {num1-num2}')\n",
    "elif op == '*':\n",
    "    print(f'곱셈 : {num1} * {num2} = {num1*num2}')\n",
    "elif op == '/':\n",
    "    print(f'나눗셈 : {num1} / {num2} = {num1/num2}')\n",
    "else:\n",
    "    print(f'잘못 입력하셨습니다.')"
   ]
  },
  {
   "cell_type": "markdown",
   "id": "084dec1a",
   "metadata": {},
   "source": [
    "# 수행평가 연습9"
   ]
  },
  {
   "cell_type": "code",
   "execution_count": 6,
   "id": "cbe9afde",
   "metadata": {},
   "outputs": [
    {
     "name": "stdout",
     "output_type": "stream",
     "text": [
      "Attempt 1. 예상 숫자를 입력하세요(1-100): 10\n",
      "Up\n",
      "Attempt 2. 예상 숫자를 입력하세요(1-100): 20\n",
      "Up\n",
      "Attempt 3. 예상 숫자를 입력하세요(1-100): 30\n",
      "Up\n",
      "Attempt 4. 예상 숫자를 입력하세요(1-100): 40\n",
      "Up\n",
      "Attempt 5. 예상 숫자를 입력하세요(1-100): 50\n",
      "Down\n",
      "횟수 초과입니다. 정답은 41였습니다.\n"
     ]
    }
   ],
   "source": [
    "import random\n",
    "def guess_number_game(max_attempts=5):\n",
    "    cnt = 0\n",
    "    num = random.randint(1,100)\n",
    "    \n",
    "    while cnt < max_attempts:\n",
    "        cnt += 1\n",
    "        answer = int(input(f'Attempt {cnt}. 예상 숫자를 입력하세요(1-100): '))\n",
    "        if answer == num:\n",
    "            print(f'정답 입니다!')\n",
    "            print(f'{cnt}번 만에 맞추었습니다.')\n",
    "            return\n",
    "        if answer < num:\n",
    "            print('Up')\n",
    "        else:\n",
    "            print('Down')\n",
    "    print(f'횟수 초과입니다. 정답은 {num}였습니다.')\n",
    "# 시작\n",
    "guess_number_game()"
   ]
  },
  {
   "cell_type": "code",
   "execution_count": null,
   "id": "c5a18390",
   "metadata": {},
   "outputs": [],
   "source": []
  }
 ],
 "metadata": {
  "kernelspec": {
   "display_name": "Python 3 (ipykernel)",
   "language": "python",
   "name": "python3"
  },
  "language_info": {
   "codemirror_mode": {
    "name": "ipython",
    "version": 3
   },
   "file_extension": ".py",
   "mimetype": "text/x-python",
   "name": "python",
   "nbconvert_exporter": "python",
   "pygments_lexer": "ipython3",
   "version": "3.9.7"
  }
 },
 "nbformat": 4,
 "nbformat_minor": 5
}
