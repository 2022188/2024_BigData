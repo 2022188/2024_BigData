{
 "cells": [
  {
   "cell_type": "markdown",
   "id": "ae22cd91",
   "metadata": {},
   "source": [
    "## 30913_유시훈_0509_1"
   ]
  },
  {
   "cell_type": "code",
   "execution_count": 1,
   "id": "7ff39279",
   "metadata": {},
   "outputs": [
    {
     "name": "stdout",
     "output_type": "stream",
     "text": [
      "영어단어, 뜻 : banana,바나나\n",
      "영어단어, 뜻 : apple,사과\n",
      "영어단어, 뜻 : \n"
     ]
    },
    {
     "data": {
      "text/plain": [
       "{'banana': '바나나', 'apple': '사과'}"
      ]
     },
     "execution_count": 1,
     "metadata": {},
     "output_type": "execute_result"
    }
   ],
   "source": [
    "dict_word = {}\n",
    "\n",
    "while True:\n",
    "    input_word = input('영어단어, 뜻 : ')\n",
    "    if input_word == '':\n",
    "        break\n",
    "        \n",
    "    eng = input_word.split(',')[0]\n",
    "    kor = input_word.split(',')[1]\n",
    "    \n",
    "    dict_word[eng] = kor\n",
    "    \n",
    "dict_word"
   ]
  },
  {
   "cell_type": "code",
   "execution_count": 2,
   "id": "30c39a18",
   "metadata": {},
   "outputs": [
    {
     "name": "stdout",
     "output_type": "stream",
     "text": [
      "영어단어,뜻 : apple,사과\n",
      "영어단어,뜻 : banana,바나나\n",
      "영어단어,뜻 : \n"
     ]
    },
    {
     "data": {
      "text/plain": [
       "{'apple': '사과', 'banana': '바나나'}"
      ]
     },
     "execution_count": 2,
     "metadata": {},
     "output_type": "execute_result"
    }
   ],
   "source": [
    "dict_word = {}\n",
    "\n",
    "while True:\n",
    "    input_word = input('영어단어,뜻 : ')\n",
    "    if input_word=='':\n",
    "        break\n",
    "    eng = input_word.split(',')[0]\n",
    "    kor = input_word.split(',')[1]\n",
    "    \n",
    "    dict_word[eng] = kor\n",
    "    \n",
    "dict_word"
   ]
  },
  {
   "cell_type": "code",
   "execution_count": 3,
   "id": "5bb52a2a",
   "metadata": {},
   "outputs": [
    {
     "name": "stdout",
     "output_type": "stream",
     "text": [
      "물건구매가 : 100000\n",
      "\n",
      "구매가 : 100000\n",
      "할인율 : 10%\n",
      "할인금액 : 10000.0\n",
      "지불금액 : 90000.0\n",
      "\n"
     ]
    }
   ],
   "source": [
    "price = int(input('물건구매가 : '))\n",
    "\n",
    "if price >= 100000:\n",
    "    dc = 10\n",
    "elif price >= 50000:\n",
    "    dc = 7\n",
    "elif price >= 10000:\n",
    "    dc = 5\n",
    "else :\n",
    "    dc = 0\n",
    "    \n",
    "print(f'''\n",
    "구매가 : {price}\n",
    "할인율 : {dc}%\n",
    "할인금액 : {price*(dc/100)}\n",
    "지불금액 : {price - price*(dc/100)}\n",
    "''')"
   ]
  },
  {
   "cell_type": "code",
   "execution_count": 4,
   "id": "0dda44d2",
   "metadata": {},
   "outputs": [
    {
     "name": "stdout",
     "output_type": "stream",
     "text": [
      "물건구매가 : 5000\n",
      "\n",
      "구매가 : 5000\n",
      "할인율 : 0%\n",
      "할인금액 : 0.0\n",
      "지불금액 : 5000.0\n",
      "\n"
     ]
    }
   ],
   "source": [
    "price = int(input('물건구매가 : '))\n",
    "\n",
    "if price >= 100000:\n",
    "    dc = 10\n",
    "elif price >= 50000:\n",
    "    dc = 7\n",
    "elif price >= 10000:\n",
    "    dc = 5\n",
    "else :\n",
    "    dc = 0\n",
    "    \n",
    "print(f'''\n",
    "구매가 : {price}\n",
    "할인율 : {dc}%\n",
    "할인금액 : {price*(dc/100)}\n",
    "지불금액 : {price - price*(dc/100)}\n",
    "''')"
   ]
  },
  {
   "cell_type": "code",
   "execution_count": 5,
   "id": "070c0fc5",
   "metadata": {},
   "outputs": [
    {
     "name": "stdout",
     "output_type": "stream",
     "text": [
      "물건구매가 : 30000\n",
      "\n",
      "구매가 : 30000\n",
      "할인율 : 5%\n",
      "할인금액 : 1500.0\n",
      "지불금액 : 28500.0\n",
      "\n"
     ]
    }
   ],
   "source": [
    "price = int(input('물건구매가 : '))\n",
    "\n",
    "if price >= 100000:\n",
    "    dc = 10\n",
    "elif price >= 50000:\n",
    "    dc = 7\n",
    "elif price >= 10000:\n",
    "    dc = 5\n",
    "else :\n",
    "    dc = 0\n",
    "    \n",
    "print(f'''\n",
    "구매가 : {price}\n",
    "할인율 : {dc}%\n",
    "할인금액 : {price*(dc/100)}\n",
    "지불금액 : {price - price*(dc/100)}\n",
    "''')"
   ]
  },
  {
   "cell_type": "code",
   "execution_count": 6,
   "id": "5c72b014",
   "metadata": {},
   "outputs": [
    {
     "name": "stdout",
     "output_type": "stream",
     "text": [
      "물건구매가 : 20000\n",
      "\n",
      "구매가 : 20000\n",
      "할인율 : 5%\n",
      "할인금액 : 1000.0\n",
      "지불금액 : 19000.0\n",
      "\n"
     ]
    }
   ],
   "source": [
    "price = int(input('물건구매가 : '))\n",
    "\n",
    "if price >= 100000:\n",
    "    dc = 10\n",
    "elif price >= 50000:\n",
    "    dc = 7\n",
    "elif price >= 10000:\n",
    "    dc = 5\n",
    "else :\n",
    "    dc = 0\n",
    "    \n",
    "print(f'''\n",
    "구매가 : {price}\n",
    "할인율 : {dc}%\n",
    "할인금액 : {price*(dc/100)}\n",
    "지불금액 : {price - price*(dc/100)}\n",
    "''')"
   ]
  },
  {
   "cell_type": "code",
   "execution_count": null,
   "id": "cd25d8b6",
   "metadata": {},
   "outputs": [],
   "source": []
  }
 ],
 "metadata": {
  "kernelspec": {
   "display_name": "Python 3 (ipykernel)",
   "language": "python",
   "name": "python3"
  },
  "language_info": {
   "codemirror_mode": {
    "name": "ipython",
    "version": 3
   },
   "file_extension": ".py",
   "mimetype": "text/x-python",
   "name": "python",
   "nbconvert_exporter": "python",
   "pygments_lexer": "ipython3",
   "version": "3.9.7"
  }
 },
 "nbformat": 4,
 "nbformat_minor": 5
}
