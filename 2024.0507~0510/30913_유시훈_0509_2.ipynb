{
 "cells": [
  {
   "cell_type": "markdown",
   "id": "f90fcf91",
   "metadata": {},
   "source": [
    "## 30913_유시훈_0509_2"
   ]
  },
  {
   "cell_type": "code",
   "execution_count": 3,
   "id": "19deb689",
   "metadata": {},
   "outputs": [
    {
     "name": "stdout",
     "output_type": "stream",
     "text": [
      "숫자1 : 3\n",
      "숫자2 : 54234431\n",
      "연산기호 : /\n",
      "나눗셈 : 3 / 54234431 = 5.531541392957547e-08\n"
     ]
    }
   ],
   "source": [
    "num1 = int(input('숫자1 : '))\n",
    "num2 = int(input('숫자2 : '))\n",
    "op = input('연산기호 : ')\n",
    "\n",
    "if op == '+':\n",
    "    print(f'덧셈 : {num1} + {num2} = {num1+num2}')\n",
    "elif op == '-':\n",
    "    print(f'뺄셈 : {num1} - {num2} = {num1-num2}')\n",
    "elif op == '*':\n",
    "    print(f'곱셈 : {num1} * {num2} = {num1*num2}')\n",
    "elif op == '/':\n",
    "    print(f'나눗셈 : {num1} / {num2} = {num1/num2}')\n",
    "else :\n",
    "    print('잘못 입력하셨습니다.')"
   ]
  },
  {
   "cell_type": "code",
   "execution_count": 4,
   "id": "fb0c6a17",
   "metadata": {},
   "outputs": [
    {
     "name": "stdout",
     "output_type": "stream",
     "text": [
      "Attempt 1. 예상 숫자를 입력하세요(1-100): 50\n",
      "Up\n",
      "Attempt 2. 예상 숫자를 입력하세요(1-100): 75\n",
      "Down\n",
      "Attempt 3. 예상 숫자를 입력하세요(1-100): 60\n",
      "Up\n",
      "Attempt 4. 예상 숫자를 입력하세요(1-100): 70\n",
      "Down\n",
      "Attempt 5. 예상 숫자를 입력하세요(1-100): 65\n",
      "Up\n",
      "횟수 초과입니다. 정답은 69였습니다.\n"
     ]
    }
   ],
   "source": [
    "import random\n",
    "def guess_number_game(max_attempts = 5):\n",
    "    cnt = 0\n",
    "    num = random.randint(1, 100)\n",
    "    \n",
    "    while cnt < max_attempts:\n",
    "        cnt += 1\n",
    "        answer = int(input(f'Attempt {cnt}. 예상 숫자를 입력하세요(1-100): '))\n",
    "        if answer == num:\n",
    "            print(f'정답 입니다!')\n",
    "            print(f'{cnt}번 만에 맞추었습니다.')\n",
    "            return\n",
    "        \n",
    "        if answer < num:\n",
    "            print('Up')\n",
    "        else:\n",
    "            print('Down')\n",
    "            \n",
    "    print(f'횟수 초과입니다. 정답은 {num}였습니다.')\n",
    "    \n",
    "guess_number_game()"
   ]
  },
  {
   "cell_type": "code",
   "execution_count": null,
   "id": "ec421c84",
   "metadata": {},
   "outputs": [],
   "source": []
  }
 ],
 "metadata": {
  "kernelspec": {
   "display_name": "Python 3 (ipykernel)",
   "language": "python",
   "name": "python3"
  },
  "language_info": {
   "codemirror_mode": {
    "name": "ipython",
    "version": 3
   },
   "file_extension": ".py",
   "mimetype": "text/x-python",
   "name": "python",
   "nbconvert_exporter": "python",
   "pygments_lexer": "ipython3",
   "version": "3.9.7"
  }
 },
 "nbformat": 4,
 "nbformat_minor": 5
}
