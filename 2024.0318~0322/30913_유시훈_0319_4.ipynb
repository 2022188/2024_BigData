{
 "cells": [
  {
   "cell_type": "markdown",
   "id": "3093b126",
   "metadata": {},
   "source": [
    "## 30913_유시훈_0319_4"
   ]
  },
  {
   "cell_type": "markdown",
   "id": "e62031be",
   "metadata": {},
   "source": [
    "> ### 실행결과\n",
    "```\n",
    "1부터 n까지 정수의 합을 구합니다.\n",
    "n값을 입력하세요:5\n",
    "1부터 5까지 정수의 합은 15입니다.\n",
    "```"
   ]
  },
  {
   "cell_type": "code",
   "execution_count": 6,
   "id": "d353d81e",
   "metadata": {},
   "outputs": [
    {
     "name": "stdout",
     "output_type": "stream",
     "text": [
      "1부터 n까지 정수의 합을 구합니다.\n",
      "값을 입력하세요 : 8000\n",
      "1부터 8000까지 정수의 합은 32004000입니다.\n"
     ]
    }
   ],
   "source": [
    "print('1부터 n까지 정수의 합을 구합니다.')\n",
    "n = int(input('값을 입력하세요 : '))\n",
    "\n",
    "#변수를 만들고 초기화\n",
    "sum = 0\n",
    "i = 1\n",
    "\n",
    "while i <= n :     # i가 n보다 작거나 같은 동안 반복\n",
    "    sum += i\n",
    "    i += 1\n",
    "    \n",
    "print(f'1부터 {n}까지 정수의 합은 {sum}입니다.')"
   ]
  },
  {
   "cell_type": "code",
   "execution_count": 21,
   "id": "1f91866b",
   "metadata": {},
   "outputs": [
    {
     "name": "stdout",
     "output_type": "stream",
     "text": [
      "1부터 b까지 정수의 합을 구합니다.\n",
      "b값을 입력하세요 : 5\n",
      "1부터 5까지 정수의 합은 15입니다\n"
     ]
    }
   ],
   "source": [
    "# for문으로 만들어 봅시다.\n",
    "\n",
    "print('1부터 b까지 정수의 합을 구합니다.')\n",
    "b = int(input('b값을 입력하세요 : '))\n",
    "sum = 0\n",
    "i= 1\n",
    "\n",
    "for i in range(1, b+1):\n",
    "    sum += i\n",
    "    \n",
    "print(f'1부터 {b}까지 정수의 합은 {sum}입니다')"
   ]
  },
  {
   "cell_type": "code",
   "execution_count": 24,
   "id": "660efbec",
   "metadata": {},
   "outputs": [
    {
     "name": "stdout",
     "output_type": "stream",
     "text": [
      "a부터 b까지 정수의 합을 구합니다.\n",
      "a값을 입력하세요 : 2\n",
      "b값을 입력하세요 : 3\n",
      "2부터 3까지 정수의 합은 2입니다.\n"
     ]
    }
   ],
   "source": [
    "print('a부터 b까지 정수의 합을 구합니다.')\n",
    "a = int(input('a값을 입력하세요 : '))\n",
    "b = int(input('b값을 입력하세요 : '))\n",
    "\n",
    "sum= 0\n",
    "i = 1\n",
    "\n",
    "if a > b :\n",
    "    a, b = b, a\n",
    "    \n",
    "for i in range(a, b+1):\n",
    "    sum += 1\n",
    "    \n",
    "print(f'{a}부터 {b}까지 정수의 합은 {sum}입니다.')"
   ]
  },
  {
   "cell_type": "code",
   "execution_count": 30,
   "id": "93c007e3",
   "metadata": {
    "scrolled": true
   },
   "outputs": [
    {
     "name": "stdout",
     "output_type": "stream",
     "text": [
      "a부터 b까지 정수의 합을 구합니다.\n",
      "a값을 입력하세요 : 1\n",
      "b값을 입력하세요 : 100\n",
      "1 + 2 + 3 + 4 + 5 + 6 + 7 + 8 + 9 + 10 + 11 + 12 + 13 + 14 + 15 + 16 + 17 + 18 + 19 + 20 + 21 + 22 + 23 + 24 + 25 + 26 + 27 + 28 + 29 + 30 + 31 + 32 + 33 + 34 + 35 + 36 + 37 + 38 + 39 + 40 + 41 + 42 + 43 + 44 + 45 + 46 + 47 + 48 + 49 + 50 + 51 + 52 + 53 + 54 + 55 + 56 + 57 + 58 + 59 + 60 + 61 + 62 + 63 + 64 + 65 + 66 + 67 + 68 + 69 + 70 + 71 + 72 + 73 + 74 + 75 + 76 + 77 + 78 + 79 + 80 + 81 + 82 + 83 + 84 + 85 + 86 + 87 + 88 + 89 + 90 + 91 + 92 + 93 + 94 + 95 + 96 + 97 + 98 + 99 + 100 = 5050\n"
     ]
    }
   ],
   "source": [
    "# a부터 b까지 정수의 합을 구하는 과정과 최종값을 출력하는 프로그램\n",
    "print('a부터 b까지 정수의 합을 구합니다.')\n",
    "a = int(input('a값을 입력하세요 : '))\n",
    "b = int(input('b값을 입력하세요 : '))\n",
    "\n",
    "if a > b :\n",
    "    a, b = b, a   #a,b를 오름차순으로 정령\n",
    "    \n",
    "#변수를 만들고 초기화\n",
    "sum = 0\n",
    "\n",
    "for i in range(a, b+1):\n",
    "    if i < b:   # i가 b보다 작은면 합을 구하는 과정을 출력\n",
    "        print(f'{i} + ', end='')\n",
    "    else:\n",
    "        print(f'{i} = ',end='')\n",
    "    sum += i\n",
    "    \n",
    "print(sum)"
   ]
  },
  {
   "cell_type": "code",
   "execution_count": null,
   "id": "5c0b0576",
   "metadata": {},
   "outputs": [],
   "source": []
  }
 ],
 "metadata": {
  "kernelspec": {
   "display_name": "Python 3 (ipykernel)",
   "language": "python",
   "name": "python3"
  },
  "language_info": {
   "codemirror_mode": {
    "name": "ipython",
    "version": 3
   },
   "file_extension": ".py",
   "mimetype": "text/x-python",
   "name": "python",
   "nbconvert_exporter": "python",
   "pygments_lexer": "ipython3",
   "version": "3.9.7"
  }
 },
 "nbformat": 4,
 "nbformat_minor": 5
}
