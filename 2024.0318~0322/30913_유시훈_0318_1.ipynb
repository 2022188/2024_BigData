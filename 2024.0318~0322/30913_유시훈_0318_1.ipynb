{
 "cells": [
  {
   "cell_type": "markdown",
   "id": "1be585c8",
   "metadata": {},
   "source": [
    "## 30913_유시훈_0318_1"
   ]
  },
  {
   "cell_type": "markdown",
   "id": "e1f1b140",
   "metadata": {},
   "source": [
    "> 실행 결과\n",
    "```\n",
    "세 정수의 최댓값을 구합니다.\n",
    "정수 a의 값을 입력하세요 : 1\n",
    "정수 b의 값을 입력하세요 : 3\n",
    "정수 c의 값을 입력하세요 : 2\n",
    "최댓값은 3입니다.\n",
    "```"
   ]
  },
  {
   "cell_type": "code",
   "execution_count": 7,
   "id": "f1fa8c0a",
   "metadata": {},
   "outputs": [
    {
     "name": "stdout",
     "output_type": "stream",
     "text": [
      "세 정수의 최댓값을 구합니다.\n",
      "정수 a의 값을 입력하세요 : 6\n",
      "정수 b의 값을 입력하세요 : 4\n",
      "정수 c의 값을 입력하세요 : 7\n",
      "최댓값은 7입니다.\n"
     ]
    }
   ],
   "source": [
    "# 세 정수를 입력받아 최댓값 구하기\n",
    "\n",
    "print('세 정수의 최댓값을 구합니다.')\n",
    "\n",
    "a = int(input('정수 a의 값을 입력하세요 : '))\n",
    "b = int(input('정수 b의 값을 입력하세요 : '))\n",
    "c = int(input('정수 c의 값을 입력하세요 : '))\n",
    "\n",
    "# 최댓값을 구하는 알고리즘\n",
    "\n",
    "max = a\n",
    "\n",
    "if b > max : max = b\n",
    "if c > max : max = c\n",
    "    \n",
    "print(f'최댓값은 {max}입니다.')"
   ]
  },
  {
   "cell_type": "markdown",
   "id": "04139524",
   "metadata": {},
   "source": [
    "> 실행 결과\n",
    "```\n",
    "정수를 입력하세요 : 17\n",
    "이 수는 양수입니다.\n",
    "정수를 입력하세요 : -5\n",
    "이 수는 음수입니다.\n",
    "정수를 입력하세요 : 0\n",
    "이 수는 0입니다\n",
    "```"
   ]
  },
  {
   "cell_type": "code",
   "execution_count": 10,
   "id": "3ee24567",
   "metadata": {},
   "outputs": [
    {
     "name": "stdout",
     "output_type": "stream",
     "text": [
      "정수를 입력하세요 : -2\n",
      "이 수는 음수입니다\n"
     ]
    }
   ],
   "source": [
    "a = int(input('정수를 입력하세요 : '))\n",
    "\n",
    "if a > 0 :\n",
    "    print('이 수는 양수입니다')\n",
    "elif a < 0 :\n",
    "    print('이 수는 음수입니다')\n",
    "else:\n",
    "    print('이 수는 0입니다')"
   ]
  },
  {
   "cell_type": "markdown",
   "id": "2ffb9c58",
   "metadata": {},
   "source": [
    "> 실행 결과\n",
    "```\n",
    "1부터 n까지 정수의 합을 구합니다.\n",
    "n값을 입력하세요 : 5\n",
    "1부터 5까지 정수의 합은 15입니다.\n",
    "```"
   ]
  },
  {
   "cell_type": "code",
   "execution_count": 14,
   "id": "b4a221f2",
   "metadata": {},
   "outputs": [
    {
     "name": "stdout",
     "output_type": "stream",
     "text": [
      "1부터 n까지 정수의 합을 구합니다.\n",
      "a값을 입력하세요 : 4\n",
      "1부터 4까지 정수의 합은 10입니다.\n"
     ]
    }
   ],
   "source": [
    "# while문 이용\n",
    "# 1부터 n까지 정수의 합 구하기\n",
    "\n",
    "print('1부터 n까지 정수의 합을 구합니다.')\n",
    "a = int(input('a값을 입력하세요 : '))\n",
    "\n",
    "sum = 0      # 초기화\n",
    "i = 1\n",
    "\n",
    "while i <= a :\n",
    "    sum += i        # sum = sum + i\n",
    "    i += 1       #  i = i + 1  \n",
    "    \n",
    "#출력\n",
    "print(f'1부터 {a}까지 정수의 합은 {sum}입니다.')"
   ]
  },
  {
   "cell_type": "code",
   "execution_count": null,
   "id": "01251658",
   "metadata": {},
   "outputs": [],
   "source": []
  }
 ],
 "metadata": {
  "kernelspec": {
   "display_name": "Python 3 (ipykernel)",
   "language": "python",
   "name": "python3"
  },
  "language_info": {
   "codemirror_mode": {
    "name": "ipython",
    "version": 3
   },
   "file_extension": ".py",
   "mimetype": "text/x-python",
   "name": "python",
   "nbconvert_exporter": "python",
   "pygments_lexer": "ipython3",
   "version": "3.9.7"
  }
 },
 "nbformat": 4,
 "nbformat_minor": 5
}
