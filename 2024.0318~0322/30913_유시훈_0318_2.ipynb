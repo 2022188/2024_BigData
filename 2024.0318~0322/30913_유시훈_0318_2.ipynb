{
 "cells": [
  {
   "cell_type": "markdown",
   "id": "0338adbf",
   "metadata": {},
   "source": [
    "## 30913_유시훈_0318_2"
   ]
  },
  {
   "cell_type": "markdown",
   "id": "c3e66655",
   "metadata": {},
   "source": [
    " ## 6033 : [기초-산술연산] 문자 1개 입력받아 다음 문자 출력하기(설명)(py)\n",
    " \n",
    "\n",
    "문자 1개를 입력받아 그 다음 문자를 출력해보자.\n",
    "영문자 'A'의 다음 문자는 'B'이고, 숫자 '0'의 다음 문자는 '1'이다.\n",
    "\n",
    "예시\n",
    "...\n",
    "print(chr(n+1))\n",
    "\n",
    "참고\n",
    "숫자는 수를 표현하는 문자로서 '0' 은 문자 그 자체를 의미하고, 0은 값을 의미한다.\n",
    "\n",
    "힌트\n",
    "아스키문자표에서 'A'는 10진수 65로 저장되고 'B'는 10진수 66으로 저장된다.\n",
    "따라서, 문자도 값으로 덧셈을 할 수 있다. 어떤 문자의 값에 1을 더하면 그 다음 문자의 값이 된다."
   ]
  },
  {
   "cell_type": "code",
   "execution_count": 2,
   "id": "c1f026e3",
   "metadata": {},
   "outputs": [
    {
     "name": "stdout",
     "output_type": "stream",
     "text": [
      "1\n",
      "2\n"
     ]
    }
   ],
   "source": [
    "a = input()\n",
    "print(chr(ord(a) + 1))"
   ]
  },
  {
   "cell_type": "markdown",
   "id": "1ad609a2",
   "metadata": {},
   "source": [
    "## 6034 : [기초-산술연산] 정수 2개 입력받아 차 계산하기(설명)(py)\n",
    "\n",
    "\n",
    "정수 2개(a, b)를 입력받아 a에서 b를 뺀 차를 출력하는 프로그램을 작성해보자.\n",
    "\n",
    "예시\n",
    "...\n",
    "c = a - b\n",
    "print(c)\n",
    "\n",
    "참고\n",
    "수 - 수는 차(subtraction)가 계산된다."
   ]
  },
  {
   "cell_type": "code",
   "execution_count": 12,
   "id": "78da992e",
   "metadata": {},
   "outputs": [
    {
     "name": "stdout",
     "output_type": "stream",
     "text": [
      "3 2\n",
      "1\n"
     ]
    }
   ],
   "source": [
    "a, b = map(int, input().split())\n",
    "print(a - b)"
   ]
  },
  {
   "cell_type": "markdown",
   "id": "034353d2",
   "metadata": {},
   "source": [
    "## 6035 : [기초-산술연산] 실수 2개 입력받아 곱 계산하기(설명)(py)\n",
    "\n",
    "실수 2개(f1, f2)를 입력받아 곱을 출력하는 프로그램을 작성해보자.\n",
    "\n",
    "예시\n",
    "...\n",
    "m = f1 * f2\n",
    "print(m)\n",
    "\n",
    "참고\n",
    "수 * 수는 곱(multiplication)이 계산된다."
   ]
  },
  {
   "cell_type": "code",
   "execution_count": 15,
   "id": "de75e360",
   "metadata": {},
   "outputs": [
    {
     "name": "stdout",
     "output_type": "stream",
     "text": [
      "3 4\n",
      "12.0\n"
     ]
    }
   ],
   "source": [
    "a, b = map(float,input().split())\n",
    "print(a * b)"
   ]
  },
  {
   "cell_type": "markdown",
   "id": "3a9b2e04",
   "metadata": {},
   "source": [
    "## 6036 : [기초-산술연산] 단어 여러 번 출력하기(설명)(py)\n",
    "\n",
    "단어와 반복 횟수를 입력받아 여러 번 출력해보자.\n",
    "\n",
    "예시\n",
    "w, n = input().split()\n",
    "print(w*int(n))\n",
    "\n",
    "참고\n",
    "문자열 * 정수 또는 정수 * 문자열은 그 문자열을 여러 번 반복한 문자열을 만들어 준다."
   ]
  },
  {
   "cell_type": "code",
   "execution_count": 19,
   "id": "ebf1d2a7",
   "metadata": {},
   "outputs": [
    {
     "name": "stdout",
     "output_type": "stream",
     "text": [
      "앙기모띠 10\n",
      "앙기모띠앙기모띠앙기모띠앙기모띠앙기모띠앙기모띠앙기모띠앙기모띠앙기모띠앙기모띠\n"
     ]
    }
   ],
   "source": [
    "w, n = input().split()\n",
    "print(w*int(n))"
   ]
  },
  {
   "cell_type": "markdown",
   "id": "b682c8e8",
   "metadata": {},
   "source": [
    "## 6037 : [기초-산술연산] 문장 여러 번 출력하기(설명)(py)\n",
    "\n",
    "반복 횟수와 문장을 입력받아 여러 번 출력해보자.\n",
    "\n",
    "예시\n",
    "n = input()\n",
    "s = input()\n",
    "print(int(n)*s)\n",
    "\n",
    "참고\n",
    "문자열 * 정수 또는 정수 * 문자열은 그 문자열을 여러 번 반복한 문자열을 만들어 준다."
   ]
  },
  {
   "cell_type": "code",
   "execution_count": 33,
   "id": "888754f6",
   "metadata": {},
   "outputs": [
    {
     "name": "stdout",
     "output_type": "stream",
     "text": [
      "10\n",
      "앙기모띠\n",
      "앙기모띠앙기모띠앙기모띠앙기모띠앙기모띠앙기모띠앙기모띠앙기모띠앙기모띠앙기모띠\n"
     ]
    }
   ],
   "source": [
    "n = input()\n",
    "s = input()\n",
    "print(s * int(n))"
   ]
  },
  {
   "cell_type": "markdown",
   "id": "e0d47a5a",
   "metadata": {},
   "source": [
    "## 6038 : [기초-산술연산] 정수 2개 입력받아 거듭제곱 계산하기(설명)(py)\n",
    "\n",
    "정수 2개(a, b)를 입력받아\n",
    "a를 b번 곱한 거듭제곱을 출력하는 프로그램을 작성해보자.\n",
    "\n",
    "예시\n",
    "...\n",
    "c = a**b\n",
    "print(c)\n",
    "\n",
    "참고\n",
    "python 언어에서는 거듭제곱을 계산하는 연산자(**)를 제공한다.\n",
    "일반적으로 수학 식에서 거듭제곱을 표현하는 사용하는 서컴플렉스/케릿 기호(^)는 프로그래밍언어에서 다른 의미로 쓰인다."
   ]
  },
  {
   "cell_type": "code",
   "execution_count": 36,
   "id": "dc3e174c",
   "metadata": {},
   "outputs": [
    {
     "name": "stdout",
     "output_type": "stream",
     "text": [
      "4 4\n"
     ]
    },
    {
     "ename": "TypeError",
     "evalue": "unsupported operand type(s) for ** or pow(): 'str' and 'str'",
     "output_type": "error",
     "traceback": [
      "\u001b[1;31m---------------------------------------------------------------------------\u001b[0m",
      "\u001b[1;31mTypeError\u001b[0m                                 Traceback (most recent call last)",
      "\u001b[1;32m~\\AppData\\Local\\Temp/ipykernel_11100/1407467817.py\u001b[0m in \u001b[0;36m<module>\u001b[1;34m\u001b[0m\n\u001b[0;32m      1\u001b[0m \u001b[0ma\u001b[0m\u001b[1;33m,\u001b[0m \u001b[0mb\u001b[0m \u001b[1;33m=\u001b[0m \u001b[0minput\u001b[0m\u001b[1;33m(\u001b[0m\u001b[1;33m)\u001b[0m\u001b[1;33m.\u001b[0m\u001b[0msplit\u001b[0m\u001b[1;33m(\u001b[0m\u001b[1;33m)\u001b[0m\u001b[1;33m\u001b[0m\u001b[1;33m\u001b[0m\u001b[0m\n\u001b[1;32m----> 2\u001b[1;33m \u001b[0mc\u001b[0m \u001b[1;33m=\u001b[0m \u001b[0ma\u001b[0m\u001b[1;33m**\u001b[0m\u001b[0mb\u001b[0m\u001b[1;33m\u001b[0m\u001b[1;33m\u001b[0m\u001b[0m\n\u001b[0m\u001b[0;32m      3\u001b[0m \u001b[0mprint\u001b[0m\u001b[1;33m(\u001b[0m\u001b[0mc\u001b[0m\u001b[1;33m)\u001b[0m\u001b[1;33m\u001b[0m\u001b[1;33m\u001b[0m\u001b[0m\n",
      "\u001b[1;31mTypeError\u001b[0m: unsupported operand type(s) for ** or pow(): 'str' and 'str'"
     ]
    }
   ],
   "source": [
    "a, b = input().split()\n",
    "c = a**b\n",
    "print(c)"
   ]
  },
  {
   "cell_type": "code",
   "execution_count": null,
   "id": "c981f6cf",
   "metadata": {},
   "outputs": [],
   "source": []
  }
 ],
 "metadata": {
  "kernelspec": {
   "display_name": "Python 3 (ipykernel)",
   "language": "python",
   "name": "python3"
  },
  "language_info": {
   "codemirror_mode": {
    "name": "ipython",
    "version": 3
   },
   "file_extension": ".py",
   "mimetype": "text/x-python",
   "name": "python",
   "nbconvert_exporter": "python",
   "pygments_lexer": "ipython3",
   "version": "3.9.7"
  }
 },
 "nbformat": 4,
 "nbformat_minor": 5
}
