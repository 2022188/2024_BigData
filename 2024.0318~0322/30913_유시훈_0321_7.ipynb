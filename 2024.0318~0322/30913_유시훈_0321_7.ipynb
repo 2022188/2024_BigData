{
 "cells": [
  {
   "cell_type": "markdown",
   "id": "a0df1549",
   "metadata": {},
   "source": [
    "## 30913_유시훈_0321_6"
   ]
  },
  {
   "cell_type": "code",
   "execution_count": 2,
   "id": "f07391e2",
   "metadata": {},
   "outputs": [
    {
     "name": "stdout",
     "output_type": "stream",
     "text": [
      "+와 -를 번갈아 출력합니다.\n",
      "몇 개를 출력할까요? : 5\n",
      "+-+-+\n"
     ]
    }
   ],
   "source": [
    "# +와 -를 번갈아 출력하기 1\n",
    "\n",
    "print('+와 -를 번갈아 출력합니다.')\n",
    "a = int(input('몇 개를 출력할까요? : '))\n",
    "\n",
    "for i in range(a):\n",
    "    if i % 2:\n",
    "        print('-', end=\"\")\n",
    "    else:\n",
    "        print('+', end=\"\")\n",
    "        \n",
    "print()"
   ]
  },
  {
   "cell_type": "code",
   "execution_count": 7,
   "id": "b6e32c6e",
   "metadata": {},
   "outputs": [
    {
     "name": "stdout",
     "output_type": "stream",
     "text": [
      "+와 -를 번갈아 출력합니다.\n",
      "몇 개를 출력할까요? : 5\n",
      "-+-+-\n"
     ]
    }
   ],
   "source": [
    "# range(처음값, 마지막값)\n",
    "\n",
    "print('+와 -를 번갈아 출력합니다.')\n",
    "a = int(input('몇 개를 출력할까요? : '))\n",
    "\n",
    "for i in range(1, a+1):\n",
    "    if i % 2:\n",
    "        print('-', end=\"\")\n",
    "    else:\n",
    "        print('+', end=\"\")\n",
    "        \n",
    "print()"
   ]
  },
  {
   "cell_type": "code",
   "execution_count": 10,
   "id": "b0e2dd4f",
   "metadata": {},
   "outputs": [
    {
     "name": "stdout",
     "output_type": "stream",
     "text": [
      "+와 -를 번갈아 출력합니다.\n",
      "몇 개를 출력할까요? : 20\n",
      "+-+-+-+-+-+-+-+-+-+-\n"
     ]
    }
   ],
   "source": [
    "# +와 -를 번갈아 출력하기 2\n",
    "\n",
    "print('+와 -를 번갈아 출력합니다.')\n",
    "a = int(input('몇 개를 출력할까요? : '))\n",
    "\n",
    "for _ in range(a // 2):\n",
    "    print('+-', end='')  # n // 2개의 +-를 출력\n",
    "    \n",
    "if a % 2:\n",
    "    print('+', end='')   # n이 홀 수 있때만 +출력 \n",
    "    \n",
    "print()"
   ]
  },
  {
   "cell_type": "code",
   "execution_count": 22,
   "id": "9ab4dbb5",
   "metadata": {},
   "outputs": [
    {
     "name": "stdout",
     "output_type": "stream",
     "text": [
      "*를 출력합니다.\n",
      "몇 개를 출력할까요? : 30\n",
      "몇 개마다 줄바꿈할까요? : 6\n",
      "******\n",
      "******\n",
      "******\n",
      "******\n",
      "******\n"
     ]
    }
   ],
   "source": [
    "print('*를 출력합니다.')\n",
    "a = int(input('몇 개를 출력할까요? : '))\n",
    "b = int(input('몇 개마다 줄바꿈할까요? : '))\n",
    "\n",
    "# n번 반복\n",
    "for i in range(a):\n",
    "    print('*', end=\"\")\n",
    "    if i % b == b - 1:    # n번 판단\n",
    "        print()    # 줄바꿈"
   ]
  },
  {
   "cell_type": "code",
   "execution_count": 31,
   "id": "efb86c66",
   "metadata": {},
   "outputs": [
    {
     "name": "stdout",
     "output_type": "stream",
     "text": [
      "1부터 n까지 정수의 합을 구합니다.\n",
      "a값을 입력하세요. : 20\n",
      "1부터 20까지 정수의 합은 210\n"
     ]
    }
   ],
   "source": [
    "print('1부터 n까지 정수의 합을 구합니다.')\n",
    "\n",
    "while True:\n",
    "    a = int(input('a값을 입력하세요. : '))\n",
    "    if a > 0 :\n",
    "        break\n",
    "        \n",
    "        \n",
    "sum = 0\n",
    "i = 1\n",
    "\n",
    "for i in range(1, a+1):\n",
    "    sum += i\n",
    "    i += 1\n",
    "        \n",
    "print(f'1부터 {a}까지 정수의 합은 {sum}')"
   ]
  },
  {
   "cell_type": "code",
   "execution_count": null,
   "id": "ae4917c7",
   "metadata": {},
   "outputs": [],
   "source": []
  }
 ],
 "metadata": {
  "kernelspec": {
   "display_name": "Python 3 (ipykernel)",
   "language": "python",
   "name": "python3"
  },
  "language_info": {
   "codemirror_mode": {
    "name": "ipython",
    "version": 3
   },
   "file_extension": ".py",
   "mimetype": "text/x-python",
   "name": "python",
   "nbconvert_exporter": "python",
   "pygments_lexer": "ipython3",
   "version": "3.9.7"
  }
 },
 "nbformat": 4,
 "nbformat_minor": 5
}
