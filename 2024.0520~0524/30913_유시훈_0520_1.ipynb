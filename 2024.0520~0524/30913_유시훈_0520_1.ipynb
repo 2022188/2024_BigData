{
 "cells": [
  {
   "cell_type": "markdown",
   "id": "99fb58bc",
   "metadata": {},
   "source": [
    "## 30913_유시훈_0520_1"
   ]
  },
  {
   "cell_type": "code",
   "execution_count": 1,
   "id": "629d00a8",
   "metadata": {},
   "outputs": [],
   "source": [
    "olympic=[[1,'미국',46,37,38,121],\n",
    "        [2,'영국',27,23,17,67],\n",
    "        [3,'중국',26,18,26,70],\n",
    "        [4,'러시아',19,18,19,56],\n",
    "        [5,'독일',17,10,15,42],\n",
    "        [6,'일본',12,8,21,41],\n",
    "        [7,'프랑스',10,18,14,42],\n",
    "        [8,'대한민국',9,3,9,21]]"
   ]
  },
  {
   "cell_type": "code",
   "execution_count": 2,
   "id": "7347bf7b",
   "metadata": {},
   "outputs": [
    {
     "name": "stdout",
     "output_type": "stream",
     "text": [
      "미국 금메달 개수: 19\n"
     ]
    }
   ],
   "source": [
    "print(olympic[0][1],'금메달 개수:',olympic[3][4])"
   ]
  },
  {
   "cell_type": "code",
   "execution_count": 3,
   "id": "35de0ed5",
   "metadata": {},
   "outputs": [
    {
     "name": "stdout",
     "output_type": "stream",
     "text": [
      "금메달보다 은메달이 더 많은 나라\n",
      "프랑스\n"
     ]
    }
   ],
   "source": [
    "# 금메달보다 은메달이 더 많은 나라 출력하기\n",
    "print('금메달보다 은메달이 더 많은 나라')\n",
    "for row in olympic:\n",
    "    if row[2] < row[3]:\n",
    "        print(row[1])"
   ]
  },
  {
   "cell_type": "code",
   "execution_count": 5,
   "id": "b4cd0032",
   "metadata": {},
   "outputs": [
    {
     "name": "stdout",
     "output_type": "stream",
     "text": [
      "동메달이 금메달보다 더 많은 나라\n",
      "일본\n",
      "프랑스\n"
     ]
    }
   ],
   "source": [
    "# 금메달보다 동메달이 더 많은 나라 출력하기\n",
    "print('금메달보다 동메달이 더 많은 나라')\n",
    "for row in olympic:\n",
    "    if row[2] < row[4]:\n",
    "        print(row[1])"
   ]
  },
  {
   "cell_type": "code",
   "execution_count": 7,
   "id": "d1207a85",
   "metadata": {},
   "outputs": [
    {
     "name": "stdout",
     "output_type": "stream",
     "text": [
      "금메달의 전체 개수 출력하기\n",
      "166\n"
     ]
    }
   ],
   "source": [
    "# 금메달의 전체 개수를 출력하기\n",
    "print('금메달의 전체 개수 출력하기')\n",
    "total_gold = 0\n",
    "for row in olympic:\n",
    "    total_gold += row[2]\n",
    "    \n",
    "print(total_gold)"
   ]
  },
  {
   "cell_type": "code",
   "execution_count": 8,
   "id": "6f649467",
   "metadata": {},
   "outputs": [
    {
     "name": "stdout",
     "output_type": "stream",
     "text": [
      "['역사탐험대', '파이썬', '학습법', '영단어', '여행에세이', '삼국지']\n",
      "[24584, 15851, 16054, 19802, 21928, 16609]\n"
     ]
    }
   ],
   "source": [
    "import random\n",
    "\n",
    "book_name = [\"역사탐험대\",\"파이썬\",\"학습법\",\"영단어\",\"여행에세이\",\"삼국지\"]\n",
    "book_price = []\n",
    "\n",
    "for i in range(len(book_name)):\n",
    "    book_price.append(random.randint(15000,25000))\n",
    "                      \n",
    "print(book_name)\n",
    "print(book_price)"
   ]
  },
  {
   "cell_type": "code",
   "execution_count": 9,
   "id": "01b2d37c",
   "metadata": {},
   "outputs": [
    {
     "name": "stdout",
     "output_type": "stream",
     "text": [
      "가장 비싼 책은?\n",
      "역사탐험대\n"
     ]
    }
   ],
   "source": [
    "# 가장 비싼 책은?\n",
    "print('가장 비싼 책은?')\n",
    "expensive =max(book_price)\n",
    "idx = book_price.index(expensive)\n",
    "print(book_name[idx])"
   ]
  },
  {
   "cell_type": "code",
   "execution_count": null,
   "id": "64702c79",
   "metadata": {},
   "outputs": [],
   "source": []
  }
 ],
 "metadata": {
  "kernelspec": {
   "display_name": "Python 3 (ipykernel)",
   "language": "python",
   "name": "python3"
  },
  "language_info": {
   "codemirror_mode": {
    "name": "ipython",
    "version": 3
   },
   "file_extension": ".py",
   "mimetype": "text/x-python",
   "name": "python",
   "nbconvert_exporter": "python",
   "pygments_lexer": "ipython3",
   "version": "3.9.7"
  }
 },
 "nbformat": 4,
 "nbformat_minor": 5
}
