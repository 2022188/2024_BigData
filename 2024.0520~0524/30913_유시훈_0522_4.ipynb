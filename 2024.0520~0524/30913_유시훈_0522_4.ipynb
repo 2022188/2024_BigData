{
 "cells": [
  {
   "cell_type": "markdown",
   "id": "6ee440ce",
   "metadata": {},
   "source": [
    "## 30913_유시훈_0522_4"
   ]
  },
  {
   "cell_type": "markdown",
   "id": "6bf4497d",
   "metadata": {},
   "source": [
    "## 1119 : 일을 시간으로 변환\n",
    "\n",
    "하루는 24시간이다.\n",
    "\n",
    "일(day)이 입력으로 주어지면 시간으로 변환하시오."
   ]
  },
  {
   "cell_type": "code",
   "execution_count": 6,
   "id": "c85f5b31",
   "metadata": {},
   "outputs": [
    {
     "name": "stdout",
     "output_type": "stream",
     "text": [
      "2\n",
      "24\n"
     ]
    }
   ],
   "source": [
    "a = int(input())\n",
    "print(a*12)"
   ]
  },
  {
   "cell_type": "markdown",
   "id": "c6856158",
   "metadata": {},
   "source": [
    "## 1120 : 세 수의 평균\n",
    "\n",
    "세 정수가 입력되면 평균을 출력하시오.\n",
    "\n",
    "평균 = 총점 / 개수"
   ]
  },
  {
   "cell_type": "code",
   "execution_count": 15,
   "id": "094e8010",
   "metadata": {
    "scrolled": true
   },
   "outputs": [
    {
     "name": "stdout",
     "output_type": "stream",
     "text": [
      "1 2 3\n",
      "2.00\n"
     ]
    }
   ],
   "source": [
    "a,b,c = map(int, input().split())\n",
    "avg = round((a+b+c)/3, 2)\n",
    "print('%.2f' % avg)"
   ]
  },
  {
   "cell_type": "markdown",
   "id": "a32222e7",
   "metadata": {},
   "source": [
    "## 1121 : 나머지 구하기\n",
    "\n",
    "정수 계산에서 나머지를 구하시오.\n",
    "\n",
    "예를 들어\n",
    "\n",
    "7 / 5 의 나머지는 2입니다.\n",
    "\n",
    "나머지 연산자는 %입니다. \n",
    "\n",
    "프로그래밍에서 매우 중요한 연산자이므로 숙지합시다."
   ]
  },
  {
   "cell_type": "code",
   "execution_count": 16,
   "id": "8a9e62ff",
   "metadata": {},
   "outputs": [
    {
     "name": "stdout",
     "output_type": "stream",
     "text": [
      "7 5\n",
      "2\n"
     ]
    }
   ],
   "source": [
    "a,b = map(int, input().split())\n",
    "print(a%b)"
   ]
  }
 ],
 "metadata": {
  "kernelspec": {
   "display_name": "Python 3 (ipykernel)",
   "language": "python",
   "name": "python3"
  },
  "language_info": {
   "codemirror_mode": {
    "name": "ipython",
    "version": 3
   },
   "file_extension": ".py",
   "mimetype": "text/x-python",
   "name": "python",
   "nbconvert_exporter": "python",
   "pygments_lexer": "ipython3",
   "version": "3.9.7"
  }
 },
 "nbformat": 4,
 "nbformat_minor": 5
}
