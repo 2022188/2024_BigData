{
 "cells": [
  {
   "cell_type": "markdown",
   "id": "e7dba117",
   "metadata": {},
   "source": [
    "## 30913_유시훈_0520_2"
   ]
  },
  {
   "cell_type": "markdown",
   "id": "c63b0bc3",
   "metadata": {},
   "source": [
    "## 1115 : 두 정수의 덧셈 (64비트)\n",
    "\n",
    "두 정수의 덧셈의 결과를 출력한다.\n",
    "\n",
    "두 수는 int 범위를 넘어선 64비트 정수형 값이다.\n",
    "\n",
    "int는 32비트 자료형이므로 -231 ~ 231-1의 데이터 값만 표현할 수 있습니다.\n",
    "\n",
    "int형 정수보다 더 큰 숫자가 필요하다면 long long 을 이용합시다.\n",
    "\n",
    "long long은 64비트 자료형이므로 -263 ~ 263-1까지 표현할 수 있습니다.\n",
    "\n",
    "참고)\n",
    "\n",
    "long long의 서식 문자 : %lld\n",
    "\n",
    "long long a, b;      //64비트 정수형 변수 a, b 선언\n",
    "scanf(\"%lld %lld\", &a, &b);    //두 개의 64비트 정수를 입력받음\n",
    "printf(\"%lld\", a+b);      //64비트 정수로 출력\n"
   ]
  },
  {
   "cell_type": "code",
   "execution_count": 1,
   "id": "5cf590d9",
   "metadata": {},
   "outputs": [
    {
     "name": "stdout",
     "output_type": "stream",
     "text": [
      "3 5\n",
      "8\n"
     ]
    }
   ],
   "source": [
    "a,b = map(int,input().split())\n",
    "\n",
    "print(a+b)"
   ]
  },
  {
   "cell_type": "markdown",
   "id": "bfd6c2ea",
   "metadata": {},
   "source": [
    "## 1116 : 사칙연산 계산기\n",
    "\n",
    "두 정수를 입력받아 아래와 같이 출력하시오.\n",
    "\n",
    "예)  3 2\n",
    "\n",
    "3+2=5\n",
    "3-2=1\n",
    "3*2=6\n",
    "3/2=1"
   ]
  },
  {
   "cell_type": "code",
   "execution_count": 8,
   "id": "3f2cd32d",
   "metadata": {},
   "outputs": [
    {
     "name": "stdout",
     "output_type": "stream",
     "text": [
      "9 3\n",
      "9+3=12\n",
      "9-3=6\n",
      "9*3=27\n",
      "9/3=3\n"
     ]
    }
   ],
   "source": [
    "a,b = map(int,input().split())\n",
    "\n",
    "print(f\"{a}+{b}={a+b}\")\n",
    "print(f\"{a}-{b}={a-b}\")\n",
    "print(f\"{a}*{b}={a*b}\")\n",
    "print(f\"{a}/{b}={a//b}\")"
   ]
  },
  {
   "cell_type": "markdown",
   "id": "644d3f55",
   "metadata": {},
   "source": [
    "## 1117 : 두 실수의 곱\n",
    "\n",
    "두 실수를 입력받아 두 실수의 곱을 출력하되 소수 둘째자리까지 출력하시오."
   ]
  },
  {
   "cell_type": "code",
   "execution_count": 14,
   "id": "a5d312f4",
   "metadata": {},
   "outputs": [
    {
     "name": "stdout",
     "output_type": "stream",
     "text": [
      "1.23 4.56\n",
      "5.61\n"
     ]
    }
   ],
   "source": [
    "a,b = map(float,input().split())\n",
    "\n",
    "print(round(a*b,2))"
   ]
  },
  {
   "cell_type": "markdown",
   "id": "5675f754",
   "metadata": {},
   "source": [
    "## 1118 : 삼각형의 넓이 구하기\n",
    "\n",
    "삼각형의 넓이를 구하는 프로그램을 작성한다.\n",
    "\n",
    "삼각형의 넓이 = 밑변 * 높이 / 2\n",
    "\n",
    "정수 끼리의 연산 결과 = 정수\n",
    "\n",
    "실수 끼리의 연산 결과 = 실수\n",
    "\n",
    "정수와 실수의 연산 결과 = 실수"
   ]
  },
  {
   "cell_type": "code",
   "execution_count": 16,
   "id": "ed9eab2a",
   "metadata": {},
   "outputs": [
    {
     "name": "stdout",
     "output_type": "stream",
     "text": [
      "밑변과 높이를 입력하시오5 2\n",
      "5.0\n"
     ]
    }
   ],
   "source": [
    "a,b = map(int,input().split())\n",
    "\n",
    "print(round(a*b/2, 1))"
   ]
  },
  {
   "cell_type": "code",
   "execution_count": null,
   "id": "3e4b6030",
   "metadata": {},
   "outputs": [],
   "source": []
  }
 ],
 "metadata": {
  "kernelspec": {
   "display_name": "Python 3 (ipykernel)",
   "language": "python",
   "name": "python3"
  },
  "language_info": {
   "codemirror_mode": {
    "name": "ipython",
    "version": 3
   },
   "file_extension": ".py",
   "mimetype": "text/x-python",
   "name": "python",
   "nbconvert_exporter": "python",
   "pygments_lexer": "ipython3",
   "version": "3.9.7"
  }
 },
 "nbformat": 4,
 "nbformat_minor": 5
}
