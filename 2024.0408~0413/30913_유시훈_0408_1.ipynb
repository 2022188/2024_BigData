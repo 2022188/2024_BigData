{
 "cells": [
  {
   "cell_type": "markdown",
   "id": "4ba36430",
   "metadata": {},
   "source": [
    "## 30913_유시훈_0408_1"
   ]
  },
  {
   "cell_type": "markdown",
   "id": "d30e3a6c",
   "metadata": {},
   "source": [
    "## 선택구조 조건이 하나 일때\n",
    "- if문"
   ]
  },
  {
   "cell_type": "code",
   "execution_count": 2,
   "id": "a042da6e",
   "metadata": {},
   "outputs": [],
   "source": [
    "age = 20\n",
    "\n",
    "# 청소년은 주류를 구매할 수 없습니다. 출력\n",
    "\n",
    "if age <= 19:\n",
    "    print('청소년은 주류를 구매할 수 없습니다.')"
   ]
  },
  {
   "cell_type": "code",
   "execution_count": 5,
   "id": "865851d4",
   "metadata": {},
   "outputs": [
    {
     "name": "stdout",
     "output_type": "stream",
     "text": [
      "나이가 어떻게 되셔요?18\n",
      "청소년은 주류를 구매할 수 없습니다. 2년 뒤에 다시오세요.\n"
     ]
    }
   ],
   "source": [
    "age = int(input(\"나이가 어떻게 되셔요?\"))\n",
    "\n",
    "if age < 20:\n",
    "    sum = 20 - age\n",
    "    print(f'청소년은 주류를 구매할 수 없습니다. {sum}년 뒤에 다시오세요.')\n",
    "else :\n",
    "    print('구매가 가능합니다.')"
   ]
  },
  {
   "cell_type": "markdown",
   "id": "85e31467",
   "metadata": {},
   "source": [
    "## 50000원 이하면 배송비 2500원이 추가 됩니다.\n",
    "### 찍어보자"
   ]
  },
  {
   "cell_type": "code",
   "execution_count": 9,
   "id": "925d301c",
   "metadata": {},
   "outputs": [
    {
     "name": "stdout",
     "output_type": "stream",
     "text": [
      "50000\n",
      "앙 무료띠\n",
      "최종결제 금액은 50000입니다.\n"
     ]
    }
   ],
   "source": [
    "price = int(input())\n",
    "\n",
    "if price < 50000:\n",
    "    print('50000원 이하면 배송비 2500원이 추가 됩니다.')\n",
    "    print(f'최종결제 금액은 {price + 2500}입니다.')\n",
    "else :\n",
    "    print('앙 무료띠')\n",
    "    print(f'최종결제 금액은 {price}입니다.')"
   ]
  },
  {
   "cell_type": "code",
   "execution_count": 18,
   "id": "87b217b4",
   "metadata": {},
   "outputs": [
    {
     "name": "stdout",
     "output_type": "stream",
     "text": [
      "0408\n",
      "짝수번호 차량만 통행 가능합니다.\n",
      "홀수번호 차주는 오늘 대중교통을 이용해주세요.\n"
     ]
    }
   ],
   "source": [
    "## 차량 이부제\n",
    "date = int(input())\n",
    "\n",
    "if date % 2 == 0:\n",
    "    print('짝수번호 차량만 통행 가능합니다.')\n",
    "    print('홀수번호 차주는 오늘 대중교통을 이용해주세요.')\n",
    "else :\n",
    "    print('홀수번호 차량만 통행 가능합니다.')\n",
    "    print('짝수번호 차주는 오늘 대중교통을 이용해주세요.')"
   ]
  },
  {
   "cell_type": "code",
   "execution_count": null,
   "id": "2f8d9ce7",
   "metadata": {},
   "outputs": [],
   "source": []
  }
 ],
 "metadata": {
  "kernelspec": {
   "display_name": "Python 3 (ipykernel)",
   "language": "python",
   "name": "python3"
  },
  "language_info": {
   "codemirror_mode": {
    "name": "ipython",
    "version": 3
   },
   "file_extension": ".py",
   "mimetype": "text/x-python",
   "name": "python",
   "nbconvert_exporter": "python",
   "pygments_lexer": "ipython3",
   "version": "3.9.7"
  }
 },
 "nbformat": 4,
 "nbformat_minor": 5
}
