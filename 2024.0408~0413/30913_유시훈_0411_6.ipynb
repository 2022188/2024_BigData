{
 "cells": [
  {
   "cell_type": "markdown",
   "id": "1959d821",
   "metadata": {},
   "source": [
    "## 30913_유시훈_0411_6"
   ]
  },
  {
   "cell_type": "code",
   "execution_count": 7,
   "id": "d38e598b",
   "metadata": {},
   "outputs": [
    {
     "name": "stdout",
     "output_type": "stream",
     "text": [
      "점수를 입력하세요. : 78\n",
      "B\n"
     ]
    }
   ],
   "source": [
    "# 등급을 구분하는 프로그램\n",
    "# 80점 이상이면 A\n",
    "# 40점 이상이면 B\n",
    "# 나머지 C 출력\n",
    "# 0 ~ 100 사이 이외의 숫자는 \"잘못된 숫자를 입력했습니다.\"\n",
    "\n",
    "# 입력설계\n",
    "a = int(input(\"점수를 입력하세요. : \"))\n",
    "\n",
    "# 올바른 숫자 범위가 맞는지 틀리는지 구분\n",
    "if a > 100 or a < 0:\n",
    "    print('잘못된 숫자를 입력했습니다.')\n",
    "    \n",
    "# 80점 이상 A등급 출력\n",
    "elif a >= 80:\n",
    "    print('A')\n",
    "    \n",
    "# 40점 이상 B등급 출력\n",
    "elif a >=40:\n",
    "    print('B')\n",
    "    \n",
    "# 나머지 C등급 출력\n",
    "else :\n",
    "    print('C')"
   ]
  },
  {
   "cell_type": "code",
   "execution_count": 10,
   "id": "9196f3ad",
   "metadata": {},
   "outputs": [
    {
     "name": "stdout",
     "output_type": "stream",
     "text": [
      "점수를 입력하세요. : 67\n",
      "B등급\n"
     ]
    }
   ],
   "source": [
    "a = int(input(\"점수를 입력하세요. : \"))\n",
    "\n",
    "if a < 0 or a > 100:\n",
    "    print(f'잘못된 숫자를 입력했습니다.')\n",
    "else :\n",
    "    if a >= 80:\n",
    "        print(f'A등급')\n",
    "    elif a >= 40:\n",
    "        print(f'B등급')\n",
    "    else :\n",
    "        print(f'C등급')"
   ]
  },
  {
   "cell_type": "markdown",
   "id": "5a22d41c",
   "metadata": {},
   "source": [
    "# 5.1 범위 내에서 반복하기 : for\n",
    "## 5.1.1 반복문이란"
   ]
  },
  {
   "cell_type": "code",
   "execution_count": 11,
   "id": "68048718",
   "metadata": {},
   "outputs": [
    {
     "name": "stdout",
     "output_type": "stream",
     "text": [
      "안녕하세요\n",
      "안녕하세요\n",
      "안녕하세요\n",
      "안녕하세요\n",
      "안녕하세요\n"
     ]
    }
   ],
   "source": [
    "for a in [1,2,3,4,5] : \n",
    "    print('안녕하세요')"
   ]
  },
  {
   "cell_type": "code",
   "execution_count": 12,
   "id": "224114cc",
   "metadata": {},
   "outputs": [
    {
     "name": "stdout",
     "output_type": "stream",
     "text": [
      "1 을(를) 저장 중입니다.\n",
      "2 을(를) 저장 중입니다.\n",
      "3 을(를) 저장 중입니다.\n",
      "4 을(를) 저장 중입니다.\n",
      "5 을(를) 저장 중입니다.\n"
     ]
    }
   ],
   "source": [
    "for a in [1,2,3,4,5] : \n",
    "    print(a,'을(를) 저장 중입니다.')"
   ]
  },
  {
   "cell_type": "code",
   "execution_count": 14,
   "id": "46c8bd7b",
   "metadata": {},
   "outputs": [
    {
     "name": "stdout",
     "output_type": "stream",
     "text": [
      "9 안녕하세요\n",
      "8 안녕하세요\n",
      "7 안녕하세요\n",
      "6 안녕하세요\n",
      "5 안녕하세요\n",
      "4 안녕하세요\n",
      "3 안녕하세요\n",
      "2 안녕하세요\n",
      "1 안녕하세요\n"
     ]
    }
   ],
   "source": [
    "for a in [9,8,7,6,5,4,3,2,1] :\n",
    "    print(a,'안녕하세요')"
   ]
  },
  {
   "cell_type": "markdown",
   "id": "569efb7b",
   "metadata": {},
   "source": [
    "## 5.1.2 연속된 숫자를 range()로 간단하게 표현하기"
   ]
  },
  {
   "cell_type": "code",
   "execution_count": 17,
   "id": "ffd800cd",
   "metadata": {},
   "outputs": [
    {
     "name": "stdout",
     "output_type": "stream",
     "text": [
      "1 선생님, 다시는 청소를 빼먹지 않겠습니다.\n",
      "2 선생님, 다시는 청소를 빼먹지 않겠습니다.\n",
      "3 선생님, 다시는 청소를 빼먹지 않겠습니다.\n",
      "4 선생님, 다시는 청소를 빼먹지 않겠습니다.\n",
      "5 선생님, 다시는 청소를 빼먹지 않겠습니다.\n",
      "6 선생님, 다시는 청소를 빼먹지 않겠습니다.\n",
      "7 선생님, 다시는 청소를 빼먹지 않겠습니다.\n",
      "8 선생님, 다시는 청소를 빼먹지 않겠습니다.\n",
      "9 선생님, 다시는 청소를 빼먹지 않겠습니다.\n",
      "10 선생님, 다시는 청소를 빼먹지 않겠습니다.\n",
      "11 선생님, 다시는 청소를 빼먹지 않겠습니다.\n",
      "12 선생님, 다시는 청소를 빼먹지 않겠습니다.\n",
      "13 선생님, 다시는 청소를 빼먹지 않겠습니다.\n",
      "14 선생님, 다시는 청소를 빼먹지 않겠습니다.\n",
      "15 선생님, 다시는 청소를 빼먹지 않겠습니다.\n",
      "16 선생님, 다시는 청소를 빼먹지 않겠습니다.\n",
      "17 선생님, 다시는 청소를 빼먹지 않겠습니다.\n",
      "18 선생님, 다시는 청소를 빼먹지 않겠습니다.\n",
      "19 선생님, 다시는 청소를 빼먹지 않겠습니다.\n",
      "20 선생님, 다시는 청소를 빼먹지 않겠습니다.\n"
     ]
    }
   ],
   "source": [
    "for a in range(1,21) :\n",
    "    print(a, '선생님, 다시는 청소를 빼먹지 않겠습니다.')"
   ]
  },
  {
   "cell_type": "code",
   "execution_count": 18,
   "id": "abef435c",
   "metadata": {},
   "outputs": [
    {
     "name": "stdout",
     "output_type": "stream",
     "text": [
      "1\n",
      "3\n",
      "5\n",
      "7\n",
      "9\n",
      "11\n",
      "13\n",
      "15\n",
      "17\n",
      "19\n"
     ]
    }
   ],
   "source": [
    "# range()에 간격 추가하기\n",
    "for a in range(1, 20, 2):\n",
    "    print(a)"
   ]
  },
  {
   "cell_type": "code",
   "execution_count": 20,
   "id": "64580526",
   "metadata": {},
   "outputs": [
    {
     "name": "stdout",
     "output_type": "stream",
     "text": [
      "5050\n"
     ]
    }
   ],
   "source": [
    "# 1부터 50까지 숫자의 합을 구하는 프로그램\n",
    "result = 0\n",
    "\n",
    "for i in range(1, 101) :\n",
    "    result += i\n",
    "    \n",
    "print(result)"
   ]
  },
  {
   "cell_type": "code",
   "execution_count": null,
   "id": "b8fd923f",
   "metadata": {},
   "outputs": [],
   "source": []
  }
 ],
 "metadata": {
  "kernelspec": {
   "display_name": "Python 3 (ipykernel)",
   "language": "python",
   "name": "python3"
  },
  "language_info": {
   "codemirror_mode": {
    "name": "ipython",
    "version": 3
   },
   "file_extension": ".py",
   "mimetype": "text/x-python",
   "name": "python",
   "nbconvert_exporter": "python",
   "pygments_lexer": "ipython3",
   "version": "3.9.7"
  }
 },
 "nbformat": 4,
 "nbformat_minor": 5
}
