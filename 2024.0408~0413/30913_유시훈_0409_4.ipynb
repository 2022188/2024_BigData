{
 "cells": [
  {
   "cell_type": "markdown",
   "id": "8f79edbd",
   "metadata": {},
   "source": [
    "## 30913_유시훈_0409_4\n",
    "\n",
    "## 조건문으로 간단한 프로그램 만들기"
   ]
  },
  {
   "cell_type": "code",
   "execution_count": 1,
   "id": "72e1fe10",
   "metadata": {},
   "outputs": [
    {
     "name": "stdout",
     "output_type": "stream",
     "text": [
      "몇살이세요?76\n",
      "성인은 15000원입니다.\n"
     ]
    }
   ],
   "source": [
    "# 목욕탕 가면 미성년자는 6000원 15000원\n",
    "# 나이를 입력받아서 구분하는 프로그램을 만들어 보자\n",
    "age = int(input('몇살이세요?'))\n",
    "\n",
    "if age >= 20 :\n",
    "    print('성인은 15000원입니다.')\n",
    "else :\n",
    "    print('미자는 6000원입니다.')"
   ]
  },
  {
   "cell_type": "code",
   "execution_count": 6,
   "id": "73bf9736",
   "metadata": {},
   "outputs": [
    {
     "name": "stdout",
     "output_type": "stream",
     "text": [
      "나이가 어떻게 되십니까? 30\n",
      "성인은 15000원입니다.\n",
      "금액을 투입해 주세요 --> 15000\n",
      "앙목욕띠\n"
     ]
    }
   ],
   "source": [
    "# 나이 구분\n",
    "# 금액 구분\n",
    "\n",
    "# 1단계\n",
    "age = int(input('나이가 어떻게 되십니까? '))\n",
    "\n",
    "if age >= 20:\n",
    "    print('성인은 15000원입니다.')\n",
    "    price = 15000\n",
    "else:\n",
    "    print('미성년자는 6000원입니다.')\n",
    "    price = 6000\n",
    "    \n",
    "#2단계 투입금액을 입력받아 입장료와 비교하기\n",
    "price_input = int(input('금액을 투입해 주세요 --> '))\n",
    "\n",
    "if price_input < price :\n",
    "    print(f'{price-price_input}원이 부족합니다')\n",
    "elif price_input == price:\n",
    "    print('감사합니다!')\n",
    "else :\n",
    "    print(f'{price_input-price}원 거슬러 드리겠습니다. 앙목욕띠!')"
   ]
  },
  {
   "cell_type": "markdown",
   "id": "a044a66c",
   "metadata": {},
   "source": [
    "## 어떤 메뉴가 궁금하신가요?\n",
    "\n",
    "라면\n",
    "\n",
    "기본라면 3500원\n",
    "떡라면: 4000원\n",
    "만두라면: 4000원\n",
    "    \n",
    "김밥\n",
    "\n",
    "야채김밥: 3000원\n",
    "참치김밥: 4000원\n",
    "꼬마김밥: 2000원"
   ]
  },
  {
   "cell_type": "code",
   "execution_count": 7,
   "id": "13098e35",
   "metadata": {},
   "outputs": [
    {
     "name": "stdout",
     "output_type": "stream",
     "text": [
      "어떤 메뉴가 궁금하신가요? 라면\n",
      "기본라면: 3500원\n",
      "떡라면: 4000원\n",
      "만두라면: 4000원\n"
     ]
    }
   ],
   "source": [
    "menu = input('어떤 메뉴가 궁금하신가요? ')\n",
    "\n",
    "if menu == '김밥':\n",
    "    print('야채김밥: 2500원')\n",
    "    print('참치김밥: 3500원')\n",
    "elif menu == '라면':\n",
    "    print('기본라면: 3500원')\n",
    "    print('떡라면: 4000원')\n",
    "    print('만두라면: 4000원')\n",
    "else:\n",
    "    print('올바른 메뉴를 입력해 주세요')"
   ]
  },
  {
   "cell_type": "code",
   "execution_count": null,
   "id": "2123cf20",
   "metadata": {},
   "outputs": [],
   "source": []
  }
 ],
 "metadata": {
  "kernelspec": {
   "display_name": "Python 3 (ipykernel)",
   "language": "python",
   "name": "python3"
  },
  "language_info": {
   "codemirror_mode": {
    "name": "ipython",
    "version": 3
   },
   "file_extension": ".py",
   "mimetype": "text/x-python",
   "name": "python",
   "nbconvert_exporter": "python",
   "pygments_lexer": "ipython3",
   "version": "3.9.7"
  }
 },
 "nbformat": 4,
 "nbformat_minor": 5
}
