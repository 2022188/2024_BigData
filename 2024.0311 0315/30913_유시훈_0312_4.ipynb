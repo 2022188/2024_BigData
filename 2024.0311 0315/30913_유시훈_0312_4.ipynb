{
 "cells": [
  {
   "cell_type": "markdown",
   "id": "41c3893f",
   "metadata": {},
   "source": [
    "## 30913_유시훈_0312_4"
   ]
  },
  {
   "cell_type": "markdown",
   "id": "e9973a32",
   "metadata": {},
   "source": [
    "## 2.3 데이터를 넣는 입력 명령어\n",
    "#### 2.3.2 입력 명령어 input()"
   ]
  },
  {
   "cell_type": "code",
   "execution_count": 1,
   "id": "d407552a",
   "metadata": {},
   "outputs": [
    {
     "name": "stdout",
     "output_type": "stream",
     "text": [
      "성일정보\n"
     ]
    },
    {
     "data": {
      "text/plain": [
       "'성일정보'"
      ]
     },
     "execution_count": 1,
     "metadata": {},
     "output_type": "execute_result"
    }
   ],
   "source": [
    "input()"
   ]
  },
  {
   "cell_type": "code",
   "execution_count": 3,
   "id": "59b6685a",
   "metadata": {},
   "outputs": [
    {
     "name": "stdout",
     "output_type": "stream",
     "text": [
      "이름유시훈\n"
     ]
    },
    {
     "data": {
      "text/plain": [
       "'유시훈'"
      ]
     },
     "execution_count": 3,
     "metadata": {},
     "output_type": "execute_result"
    }
   ],
   "source": [
    "input(\"이름\")"
   ]
  },
  {
   "cell_type": "code",
   "execution_count": 6,
   "id": "d2736c3d",
   "metadata": {},
   "outputs": [
    {
     "name": "stdout",
     "output_type": "stream",
     "text": [
      "아이디 : nysh\n",
      "비밀번호 : *********\n"
     ]
    },
    {
     "data": {
      "text/plain": [
       "'*********'"
      ]
     },
     "execution_count": 6,
     "metadata": {},
     "output_type": "execute_result"
    }
   ],
   "source": [
    "input(\"아이디 : \")\n",
    "input(\"비밀번호 : \")"
   ]
  },
  {
   "cell_type": "markdown",
   "id": "e901267b",
   "metadata": {},
   "source": [
    "> 다음을 출력해 봅시다\n",
    "```\n",
    "학번을 입력하세요 ---> 03913\n",
    "```\n",
    "```"
   ]
  },
  {
   "cell_type": "code",
   "execution_count": 8,
   "id": "d6acc886",
   "metadata": {},
   "outputs": [
    {
     "name": "stdout",
     "output_type": "stream",
     "text": [
      "학번을 입력하세요 ---> 30913\n"
     ]
    },
    {
     "data": {
      "text/plain": [
       "'30913'"
      ]
     },
     "execution_count": 8,
     "metadata": {},
     "output_type": "execute_result"
    }
   ],
   "source": [
    "input(\"학번을 입력하세요 ---> \")"
   ]
  },
  {
   "cell_type": "markdown",
   "id": "40ea8233",
   "metadata": {},
   "source": [
    "> 출력해보기\n",
    "```\n",
    "---회원가입---\n",
    "아이디 : gilbut\n",
    "가입을 환영합니다!\n",
    "```"
   ]
  },
  {
   "cell_type": "code",
   "execution_count": 9,
   "id": "d76d8b59",
   "metadata": {},
   "outputs": [
    {
     "name": "stdout",
     "output_type": "stream",
     "text": [
      "---회원가입---\n",
      "아이디 : nysh2890\n",
      "가입을 환영합니다!\n"
     ]
    }
   ],
   "source": [
    "print(\"---회원가입---\")\n",
    "input(\"아이디 : \")\n",
    "print(\"가입을 환영합니다!\")"
   ]
  },
  {
   "cell_type": "markdown",
   "id": "e3d57ff3",
   "metadata": {},
   "source": [
    "> 출력해 봅시다\n",
    "\n",
    "```\n",
    "닉네임을 입력해 주세요 ---> 앙기모띠쌤\n",
    "앙기모띠쌤 안녕하세요\n",
    "```"
   ]
  },
  {
   "cell_type": "code",
   "execution_count": 13,
   "id": "b6a4c701",
   "metadata": {},
   "outputs": [
    {
     "name": "stdout",
     "output_type": "stream",
     "text": [
      "닉네임을 입력하세요 ---> 올리버쌤\n",
      "올리버쌤님 안녕하세요\n"
     ]
    }
   ],
   "source": [
    "print(input(\"닉네임을 입력하세요 ---> \") + \"님 안녕하세요\")"
   ]
  },
  {
   "cell_type": "code",
   "execution_count": null,
   "id": "a652e0e8",
   "metadata": {},
   "outputs": [],
   "source": []
  }
 ],
 "metadata": {
  "kernelspec": {
   "display_name": "Python 3 (ipykernel)",
   "language": "python",
   "name": "python3"
  },
  "language_info": {
   "codemirror_mode": {
    "name": "ipython",
    "version": 3
   },
   "file_extension": ".py",
   "mimetype": "text/x-python",
   "name": "python",
   "nbconvert_exporter": "python",
   "pygments_lexer": "ipython3",
   "version": "3.9.7"
  }
 },
 "nbformat": 4,
 "nbformat_minor": 5
}
