{
 "cells": [
  {
   "cell_type": "markdown",
   "id": "355d8b30",
   "metadata": {},
   "source": [
    "## 30913_유시훈_0314_6"
   ]
  },
  {
   "cell_type": "markdown",
   "id": "a2b1373b",
   "metadata": {},
   "source": [
    "## 3.1 데이터를 저장하는 공간:변수\n",
    "### 3.1.1 변수란"
   ]
  },
  {
   "cell_type": "code",
   "execution_count": 1,
   "id": "258333c2",
   "metadata": {},
   "outputs": [],
   "source": [
    "a = 10"
   ]
  },
  {
   "cell_type": "code",
   "execution_count": 2,
   "id": "280d6287",
   "metadata": {},
   "outputs": [],
   "source": [
    "a = 20"
   ]
  },
  {
   "cell_type": "code",
   "execution_count": 3,
   "id": "e62023ee",
   "metadata": {},
   "outputs": [
    {
     "name": "stdout",
     "output_type": "stream",
     "text": [
      "20\n"
     ]
    }
   ],
   "source": [
    "print(a)"
   ]
  },
  {
   "cell_type": "markdown",
   "id": "7d8d573c",
   "metadata": {},
   "source": [
    "### 3.1.2 변수에 값을 저장하고 사용하기"
   ]
  },
  {
   "cell_type": "code",
   "execution_count": 4,
   "id": "4da6e4c5",
   "metadata": {},
   "outputs": [
    {
     "name": "stdout",
     "output_type": "stream",
     "text": [
      "a\n",
      "10\n"
     ]
    }
   ],
   "source": [
    "a = 10\n",
    "print('a')\n",
    "print(a)"
   ]
  },
  {
   "cell_type": "code",
   "execution_count": 7,
   "id": "92a31896",
   "metadata": {},
   "outputs": [
    {
     "name": "stdout",
     "output_type": "stream",
     "text": [
      "18\n"
     ]
    }
   ],
   "source": [
    "가나다 = 18\n",
    "print(가나다)"
   ]
  },
  {
   "cell_type": "code",
   "execution_count": 8,
   "id": "5336d81d",
   "metadata": {},
   "outputs": [
    {
     "name": "stdout",
     "output_type": "stream",
     "text": [
      "성일정보\n"
     ]
    }
   ],
   "source": [
    "b = '성일'\n",
    "c = '정보'\n",
    "print(b+c)"
   ]
  },
  {
   "cell_type": "code",
   "execution_count": 9,
   "id": "531d3e6f",
   "metadata": {},
   "outputs": [
    {
     "name": "stdout",
     "output_type": "stream",
     "text": [
      "성일 정보\n"
     ]
    }
   ],
   "source": [
    "print(b,c)"
   ]
  },
  {
   "cell_type": "code",
   "execution_count": 11,
   "id": "d663f5f6",
   "metadata": {},
   "outputs": [
    {
     "ename": "TypeError",
     "evalue": "unsupported operand type(s) for &: 'str' and 'str'",
     "output_type": "error",
     "traceback": [
      "\u001b[1;31m---------------------------------------------------------------------------\u001b[0m",
      "\u001b[1;31mTypeError\u001b[0m                                 Traceback (most recent call last)",
      "\u001b[1;32m~\\AppData\\Local\\Temp/ipykernel_10420/4230938183.py\u001b[0m in \u001b[0;36m<module>\u001b[1;34m\u001b[0m\n\u001b[1;32m----> 1\u001b[1;33m \u001b[0mprint\u001b[0m\u001b[1;33m(\u001b[0m\u001b[0mb\u001b[0m\u001b[1;33m&\u001b[0m\u001b[0mc\u001b[0m\u001b[1;33m)\u001b[0m\u001b[1;33m\u001b[0m\u001b[1;33m\u001b[0m\u001b[0m\n\u001b[0m",
      "\u001b[1;31mTypeError\u001b[0m: unsupported operand type(s) for &: 'str' and 'str'"
     ]
    }
   ],
   "source": [
    "print(b&c)"
   ]
  },
  {
   "cell_type": "code",
   "execution_count": 12,
   "id": "471641a5",
   "metadata": {},
   "outputs": [
    {
     "name": "stdout",
     "output_type": "stream",
     "text": [
      "유리 175.5 21 programming\n"
     ]
    }
   ],
   "source": [
    "name = '유리'\n",
    "height = 175.5\n",
    "age = 21\n",
    "hobby = 'programming'\n",
    "print(name, height, age, hobby)"
   ]
  },
  {
   "cell_type": "code",
   "execution_count": 22,
   "id": "39072d87",
   "metadata": {},
   "outputs": [
    {
     "name": "stdout",
     "output_type": "stream",
     "text": [
      "유리 키는 175.5  , 나이는 21  , 취미는 programming 입니다!\n"
     ]
    }
   ],
   "source": [
    "print(name,'키는',height,' , 나이는', age,' , 취미는', hobby,'입니다!')"
   ]
  },
  {
   "cell_type": "markdown",
   "id": "9fb23502",
   "metadata": {},
   "source": [
    "```\n",
    "유리 키는 175.5 , 나이는 21 , 취미는 programming 입니다!\n",
    "제임스 키는 186 , 나이는 24 , 취미는 요리하기 입니다!\n",
    "```"
   ]
  },
  {
   "cell_type": "code",
   "execution_count": 31,
   "id": "c3fbd80e",
   "metadata": {},
   "outputs": [
    {
     "name": "stdout",
     "output_type": "stream",
     "text": [
      "유리 키는 175.5 , 나이는 24 , 취미는 요리하기 입니다!\n",
      "제임스 키는 186 , 나이는 24 , 취미는 요리하기입니다!\n",
      "제임스 키는 186 , 나이는 24 , 취미는 요리하기입니다!\n"
     ]
    }
   ],
   "source": [
    "name2 = '제임스'\n",
    "height2 = 186\n",
    "age2 = 24\n",
    "hobby2 = '요리하기'\n",
    "print(name,'키는',height,', 나이는', age,', 취미는', hobby,'입니다!')\n",
    "print('{} 키는 {} , 나이는 {} , 취미는 {}입니다!'.format(name2, height2, age2, hobby2))\n",
    "print(f'{name2} 키는 {height2} , 나이는 {age2} , 취미는 {hobby2}입니다!')"
   ]
  },
  {
   "cell_type": "markdown",
   "id": "b5048890",
   "metadata": {},
   "source": [
    "원의 넓이 구해봅시다.\n",
    "```\n",
    "공식 : 파이 * 반지름 ** 2\n",
    "p = 3.141592\n",
    "r= 5\n",
    "```"
   ]
  },
  {
   "cell_type": "code",
   "execution_count": 33,
   "id": "e65e9658",
   "metadata": {},
   "outputs": [
    {
     "name": "stdout",
     "output_type": "stream",
     "text": [
      "78.5398\n"
     ]
    }
   ],
   "source": [
    "p = 3.141592\n",
    "r = 5\n",
    "print(p * r ** 2)"
   ]
  },
  {
   "cell_type": "code",
   "execution_count": null,
   "id": "fe648e9b",
   "metadata": {},
   "outputs": [],
   "source": []
  }
 ],
 "metadata": {
  "kernelspec": {
   "display_name": "Python 3 (ipykernel)",
   "language": "python",
   "name": "python3"
  },
  "language_info": {
   "codemirror_mode": {
    "name": "ipython",
    "version": 3
   },
   "file_extension": ".py",
   "mimetype": "text/x-python",
   "name": "python",
   "nbconvert_exporter": "python",
   "pygments_lexer": "ipython3",
   "version": "3.9.7"
  }
 },
 "nbformat": 4,
 "nbformat_minor": 5
}
