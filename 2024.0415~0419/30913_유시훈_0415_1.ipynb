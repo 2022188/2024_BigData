{
 "cells": [
  {
   "cell_type": "markdown",
   "id": "733a76b2",
   "metadata": {},
   "source": [
    "## 30913_유시훈_0415_1"
   ]
  },
  {
   "cell_type": "code",
   "execution_count": 1,
   "id": "b3a42971",
   "metadata": {},
   "outputs": [
    {
     "name": "stdout",
     "output_type": "stream",
     "text": [
      "6275\n"
     ]
    }
   ],
   "source": [
    "## 반복문을 이용하여 101부터 150까지 합을 구하는 프로그램 작성\n",
    "## 결과용 변수 만들고 초기화\n",
    "\n",
    "result = 0\n",
    "for i in range(101, 151):\n",
    "    result += i\n",
    "print(result)"
   ]
  },
  {
   "cell_type": "code",
   "execution_count": 4,
   "id": "5e4d0c97",
   "metadata": {},
   "outputs": [
    {
     "name": "stdout",
     "output_type": "stream",
     "text": [
      "362880\n"
     ]
    }
   ],
   "source": [
    "## 1부터 50까지 곱하는 프로그램 작성\n",
    "\n",
    "result = 1\n",
    "for i in range(1, 10):\n",
    "    result *= i\n",
    "print(result)"
   ]
  },
  {
   "cell_type": "code",
   "execution_count": 11,
   "id": "92c34968",
   "metadata": {},
   "outputs": [
    {
     "name": "stdout",
     "output_type": "stream",
     "text": [
      "몇 단을 외울까요?11\n",
      "11 X 1 = 11\n",
      "11 X 2 = 22\n",
      "11 X 3 = 33\n",
      "11 X 4 = 44\n",
      "11 X 5 = 55\n",
      "11 X 6 = 66\n",
      "11 X 7 = 77\n",
      "11 X 8 = 88\n",
      "11 X 9 = 99\n"
     ]
    }
   ],
   "source": [
    "## 구구단 출력하기\n",
    "## 입력값 설계\n",
    "num = int(input('몇 단을 외울까요?'))\n",
    "## 출력값 설계\n",
    "\n",
    "for i in range(1,10):\n",
    "    print(f'{num} X {i} = {num*i}')"
   ]
  },
  {
   "cell_type": "code",
   "execution_count": 36,
   "id": "cb58ecb6",
   "metadata": {},
   "outputs": [
    {
     "name": "stdout",
     "output_type": "stream",
     "text": [
      "0.733178687710095\n"
     ]
    }
   ],
   "source": [
    "## random 임의의 숫자\n",
    "\n",
    "## 라이브러리 libary 불러오기\n",
    "import random\n",
    "\n",
    "print(random.random())"
   ]
  },
  {
   "cell_type": "code",
   "execution_count": 37,
   "id": "34786988",
   "metadata": {},
   "outputs": [
    {
     "name": "stdout",
     "output_type": "stream",
     "text": [
      "9\n"
     ]
    }
   ],
   "source": [
    "import random\n",
    "\n",
    "## 랜덤 범위 지정한다.\n",
    "print(random.randrange(1,10, 2))"
   ]
  },
  {
   "cell_type": "code",
   "execution_count": 38,
   "id": "0edbac85",
   "metadata": {},
   "outputs": [
    {
     "name": "stdout",
     "output_type": "stream",
     "text": [
      "10\n",
      "9\n",
      "1\n",
      "0\n",
      "3\n",
      "4\n",
      "4\n",
      "3\n",
      "6\n",
      "9\n"
     ]
    }
   ],
   "source": [
    "import random\n",
    "\n",
    "for i in range(10):\n",
    "    print(random.randint(0,10))"
   ]
  },
  {
   "cell_type": "code",
   "execution_count": 42,
   "id": "bad71a58",
   "metadata": {},
   "outputs": [
    {
     "name": "stdout",
     "output_type": "stream",
     "text": [
      "구구단을 외자~~ 구구단을 외자~~ \n",
      "6 X 9 은 ? 54\n",
      "7 X 4 은 ? 28\n",
      "8 X 3 은 ? 24\n",
      "4 X 3 은 ? 12\n",
      "5 X 6 은 ? 30\n",
      "3 X 1 은 ? 3\n",
      "2 X 7 은 ? 14\n",
      "6 X 2 은 ? 12\n",
      "7 X 1 은 ? 7\n",
      "6 X 8 은 ? 48\n"
     ]
    }
   ],
   "source": [
    "## 구구단 외우기 게임 1\n",
    "import random\n",
    "\n",
    "print('구구단을 외자~~ '*2)\n",
    "\n",
    "for i in range(10):\n",
    "    a = random.randint(2,9)\n",
    "    b = random.randint(1,9)\n",
    "    print(f'{a} X {b} 은 ? {a*b}')"
   ]
  },
  {
   "cell_type": "code",
   "execution_count": 48,
   "id": "37342eb2",
   "metadata": {},
   "outputs": [
    {
     "name": "stdout",
     "output_type": "stream",
     "text": [
      "구구단을 외자~~ 구구단을 외자~~ \n",
      "2 X 2은?3\n",
      "2 X 7은?3\n",
      "8 X 1은?3\n",
      "7 X 2은?3\n",
      "5 X 3은?3\n",
      "8 X 8은?3\n",
      "8 X 3은?3\n",
      "7 X 2은?3\n",
      "6 X 5은?3\n",
      "3 X 4은?3\n"
     ]
    }
   ],
   "source": [
    "## 구구단 외우기 게임 2 - 정답을 입력받아 보기\n",
    "import random\n",
    "\n",
    "print('구구단을 외자~~ '*2)\n",
    "\n",
    "for i in range(10):\n",
    "    a = random.randint(2,9)\n",
    "    b = random.randint(1,9)\n",
    "    question = f'{a} X {b}은?'\n",
    "    input(question)"
   ]
  },
  {
   "cell_type": "code",
   "execution_count": 50,
   "id": "3a3c6b4d",
   "metadata": {},
   "outputs": [
    {
     "name": "stdout",
     "output_type": "stream",
     "text": [
      "구구단을 외자~~ 구구단을 외자~~ \n",
      "2 X 3은?6\n",
      "맞았습니다!\n",
      "8 X 1은?1\n",
      "틀렸습니다.\n",
      "4 X 9은?36\n",
      "맞았습니다!\n",
      "5 X 4은?20\n",
      "맞았습니다!\n",
      "5 X 1은?5\n",
      "맞았습니다!\n",
      "8 X 7은?56\n",
      "맞았습니다!\n",
      "7 X 1은?7\n",
      "맞았습니다!\n",
      "4 X 2은?8\n",
      "맞았습니다!\n",
      "7 X 6은?42\n",
      "맞았습니다!\n",
      "9 X 2은?18\n",
      "맞았습니다!\n"
     ]
    }
   ],
   "source": [
    "## 구구단 외우기 게임 3 - 정답입력이 맞다 틀리다를 구분\n",
    "import random\n",
    "\n",
    "print('구구단을 외자~~ '*2)\n",
    "\n",
    "for i in range(10):\n",
    "    a = random.randint(2,9)\n",
    "    b = random.randint(1,9)\n",
    "    question = input(f'{a} X {b}은?')\n",
    "    answer = int(question)\n",
    "    if answer != a*b :\n",
    "        print('틀렸습니다.')\n",
    "    else:\n",
    "        print('맞았습니다!')"
   ]
  },
  {
   "cell_type": "code",
   "execution_count": null,
   "id": "74187d4d",
   "metadata": {},
   "outputs": [],
   "source": []
  }
 ],
 "metadata": {
  "kernelspec": {
   "display_name": "Python 3 (ipykernel)",
   "language": "python",
   "name": "python3"
  },
  "language_info": {
   "codemirror_mode": {
    "name": "ipython",
    "version": 3
   },
   "file_extension": ".py",
   "mimetype": "text/x-python",
   "name": "python",
   "nbconvert_exporter": "python",
   "pygments_lexer": "ipython3",
   "version": "3.9.7"
  }
 },
 "nbformat": 4,
 "nbformat_minor": 5
}
