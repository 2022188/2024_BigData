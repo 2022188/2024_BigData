{
 "cells": [
  {
   "cell_type": "markdown",
   "id": "b32a201d",
   "metadata": {},
   "source": [
    "## 30913_유시훈_0404_7"
   ]
  },
  {
   "cell_type": "markdown",
   "id": "7d3d0c9b",
   "metadata": {},
   "source": [
    "## 6076 : [기초-반복실행구조] 정수 1개 입력받아 그 수까지 출력하기2(설명)(py)\n",
    "\n",
    "정수(0 ~ 100) 1개를 입력받아 0부터 그 수까지 순서대로 출력해보자.\n",
    "\n",
    "예시\n",
    "n = int(input())\n",
    "for i in range(n+1) :\n",
    "  print(i)\n",
    "\n",
    "참고\n",
    "range(n) 은 0, 1, 2, ... , n-2, n-1 까지의 수열을 의미한다.\n",
    "예를 들어 range(3) 은 0, 1, 2 인 수열을 의미한다.\n",
    "\n",
    "for i in range(n) :    #range(n)에 들어있는(in) 각각의 수에 대해서(for) 순서대로 i에 저장해 가면서...\n",
    "이때의 for는 각각의 값에 대하여... 라는 for each 의 의미를 가진다고 생각할 수 있다.\n",
    "```\n",
    "range(끝)\n",
    "range(시작, 끝)\n",
    "range(시작, 끝, 증감)\n",
    "형태로 수열을 표현할 수 있다. 시작 수는 포함이고, 끝 수는 포함되지 않는다. [시작, 끝)\n",
    "증감할 수를 작성하지 않으면 +1이 된다.\n",
    "```\n",
    "반복 실행구조에 반복 횟수를 기록/저장하는 변수로 i를 자주 사용하는데,\n",
    "i 는 반복자(iterator)를 나타내는 i라고 생각할 수 있다. i, j, k ... 알파벳 순으로 사용하기도 한다.\n"
   ]
  },
  {
   "cell_type": "code",
   "execution_count": 2,
   "id": "eda22eca",
   "metadata": {},
   "outputs": [
    {
     "name": "stdout",
     "output_type": "stream",
     "text": [
      "5\n",
      "0\n",
      "1\n",
      "2\n",
      "3\n",
      "4\n",
      "5\n"
     ]
    }
   ],
   "source": [
    "a = int(input())\n",
    "\n",
    "for i in range(a+1):\n",
    "    print(i)"
   ]
  },
  {
   "cell_type": "markdown",
   "id": "3be88286",
   "metadata": {},
   "source": [
    "## 6077 : [기초-종합] 짝수 합 구하기(설명)(py)\n",
    "\n",
    "정수(1 ~ 100) 1개를 입력받아 1부터 그 수까지 짝수의 합을 구해보자.\n",
    "```\n",
    "예시\n",
    "#다음 코드는 홀 수만 더해 출력한다.\n",
    "n = int(input())\n",
    "s = 0\n",
    "for i in range(1, n+1) :\n",
    "  if i%2==1 :\n",
    "    s += i\n",
    "```\n",
    "print(s)\n",
    "\n",
    "참고\n",
    "while 이나 for 반복실행구조를 이용할 수 있다.\n",
    "다른 방법이나 while 반복실행구조를 이용해서도 성공시켜 보자.\n"
   ]
  },
  {
   "cell_type": "code",
   "execution_count": 6,
   "id": "b2a709cc",
   "metadata": {},
   "outputs": [
    {
     "name": "stdout",
     "output_type": "stream",
     "text": [
      "5\n",
      "6\n"
     ]
    }
   ],
   "source": [
    "a = int(input())\n",
    "\n",
    "s = 0\n",
    "for i in range(1, a+1):\n",
    "    if i%2!=1:\n",
    "        s += i\n",
    "        \n",
    "print(s)"
   ]
  },
  {
   "cell_type": "markdown",
   "id": "9b31bf8b",
   "metadata": {},
   "source": [
    "## 6078 : [기초-종합] 원하는 문자가 입력될 때까지 반복 출력하기(py)\n",
    "\n",
    "영문 소문자 'q'가 입력될 때까지\n",
    "입력한 문자를 계속 출력하는 프로그램을 작성해보자."
   ]
  },
  {
   "cell_type": "code",
   "execution_count": 17,
   "id": "085735b1",
   "metadata": {},
   "outputs": [
    {
     "name": "stdout",
     "output_type": "stream",
     "text": [
      "a\n",
      "a\n",
      "g\n",
      "g\n",
      "d\n",
      "d\n",
      "q\n",
      "q\n"
     ]
    }
   ],
   "source": [
    "a = 'a'\n",
    "while a!='q':\n",
    "    a = str(input())\n",
    "    if a!='q':\n",
    "        print(a)\n",
    "    else:\n",
    "        print(a)\n",
    "        break"
   ]
  },
  {
   "cell_type": "markdown",
   "id": "3243a4be",
   "metadata": {},
   "source": [
    "## 6079 : [기초-종합] 언제까지 더해야 할까?(py)\n",
    "```\n",
    "1, 2, 3 ... 을 계속 더해 나갈 때,\n",
    "그 합이 입력한 정수(0 ~ 1000)보다 같거나 작을 때까지만\n",
    "계속 더하는 프로그램을 작성해보자.\n",
    "```\n",
    "즉, 1부터 n까지 정수를 계속 더해 나간다고 할 때,\n",
    "어디까지 더해야 입력한 수보다 같거나 커지는 지를 알아보고자하는 문제이다.\n"
   ]
  },
  {
   "cell_type": "code",
   "execution_count": 41,
   "id": "59c75e7f",
   "metadata": {},
   "outputs": [
    {
     "name": "stdout",
     "output_type": "stream",
     "text": [
      "55\n",
      "10\n"
     ]
    }
   ],
   "source": [
    "n = int(input())\n",
    "sum = 0\n",
    "k = 1\n",
    "\n",
    "while sum < n:\n",
    "    sum += k\n",
    "    k += 1\n",
    "    \n",
    "print(k-1)"
   ]
  },
  {
   "cell_type": "markdown",
   "id": "6441a230",
   "metadata": {},
   "source": [
    "## 6080 : [기초-종합] 주사위 2개 던지기(설명)(py)\n",
    "\n",
    "1부터 n까지, 1부터 m까지 숫자가 적힌 서로 다른 주사위 2개를 던졌을 때,\n",
    "나올 수 있는 모든 경우를 출력해보자.\n",
    "\n",
    "예시\n",
    "```\n",
    "...\n",
    "for i in range(1, n+1) :\n",
    "  for j in range(1, m+1) :\n",
    "    print(i, j)\n",
    "...\n",
    "```\n",
    "\n",
    "참고\n",
    "위 코드는\n",
    "바깥쪽의 i 값이 1부터 n까지 순서대로 바뀌는 각각의 동안에\n",
    "안쪽의 j 값이 다시 1부터 m까지 변하며 출력되는 코드이다.\n",
    "\n",
    "조건선택 실행구조 안에 다른 조건선택 실행구조를 넣어 처리할 수 있는 것과 마찬가지로\n",
    "반복 실행구조 안에 다른 반복 실행구조를 넣어 처리할 수 있다.\n",
    "\n",
    "원하는 형태로 실행 구조를 결합하거나 중첩시킬 수 있다."
   ]
  },
  {
   "cell_type": "code",
   "execution_count": 44,
   "id": "f0fbf223",
   "metadata": {},
   "outputs": [
    {
     "name": "stdout",
     "output_type": "stream",
     "text": [
      "2 3\n",
      "1 1\n",
      "1 2\n",
      "1 3\n",
      "2 1\n",
      "2 2\n",
      "2 3\n"
     ]
    }
   ],
   "source": [
    "a, b = map(int, input().split())\n",
    "\n",
    "for i in range(1, a+1):\n",
    "    for j in range(1, b+1):\n",
    "        print(i, j)"
   ]
  },
  {
   "cell_type": "markdown",
   "id": "720cf5de",
   "metadata": {},
   "source": [
    "## 6081 : [기초-종합] 16진수 구구단 출력하기(py)\n",
    "\n",
    "16진수(0, 1, 2, 3, 4, 5, 6, 7, 8, 9, A, B, C, D, E, F)를 배운\n",
    "영일이는 16진수끼리 곱하는 16진수 구구단?에 대해서 궁금해졌다.\n",
    "\n",
    "A, B, C, D, E, F 중 하나가 입력될 때,\n",
    "1부터 F까지 곱한 16진수 구구단의 내용을 출력해보자.\n",
    "(단, A ~ F 까지만 입력된다.)\n",
    "\n",
    "예시\n",
    "```\n",
    "...\n",
    "  print('%X'%n, '*%X'%i, '=%X'%(n*i), sep='')\n",
    "...\n",
    "```\n",
    "참고\n",
    "print('%X'%n)    #n에 저장되어있는 값을 16진수(hexadecimal) 형태로 출력\n",
    "작은 따옴표 2개를 사용해서 print(..., sep='') 으로 출력하면, 공백없이 모두 붙여 출력된다.\n",
    "작은 따옴표 2개 '' 또는 큰 따옴표 2개 \"\" 는 아무 문자도 없는 빈문자열(empty string)을 의미한다."
   ]
  },
  {
   "cell_type": "code",
   "execution_count": null,
   "id": "f1a79451",
   "metadata": {},
   "outputs": [],
   "source": []
  }
 ],
 "metadata": {
  "kernelspec": {
   "display_name": "Python 3 (ipykernel)",
   "language": "python",
   "name": "python3"
  },
  "language_info": {
   "codemirror_mode": {
    "name": "ipython",
    "version": 3
   },
   "file_extension": ".py",
   "mimetype": "text/x-python",
   "name": "python",
   "nbconvert_exporter": "python",
   "pygments_lexer": "ipython3",
   "version": "3.9.7"
  }
 },
 "nbformat": 4,
 "nbformat_minor": 5
}
